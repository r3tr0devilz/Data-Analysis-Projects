{
  "nbformat": 4,
  "nbformat_minor": 0,
  "metadata": {
    "colab": {
      "provenance": [],
      "authorship_tag": "ABX9TyNiqYSq9o9MMFg2Fp+C02ox",
      "include_colab_link": true
    },
    "kernelspec": {
      "name": "python3",
      "display_name": "Python 3"
    },
    "language_info": {
      "name": "python"
    }
  },
  "cells": [
    {
      "cell_type": "markdown",
      "metadata": {
        "id": "view-in-github",
        "colab_type": "text"
      },
      "source": [
        "<a href=\"https://colab.research.google.com/github/r3tr0devilz/Data-Analysis-Projects/blob/main/Customer_care_churn_case_2.ipynb\" target=\"_parent\"><img src=\"https://colab.research.google.com/assets/colab-badge.svg\" alt=\"Open In Colab\"/></a>"
      ]
    },
    {
      "cell_type": "markdown",
      "source": [
        "# Life time value Analysis. Part 2"
      ],
      "metadata": {
        "id": "GQKgrOXaxpGD"
      }
    },
    {
      "cell_type": "markdown",
      "source": [
        "Life time value is the total worth to a business of a customer over the while period of their relationship."
      ],
      "metadata": {
        "id": "7fCV-dkcyRLJ"
      }
    },
    {
      "cell_type": "code",
      "execution_count": null,
      "metadata": {
        "id": "Q8b5GHcgxe4F"
      },
      "outputs": [],
      "source": [
        "import sqlite3\n",
        "import pandas as pd"
      ]
    },
    {
      "cell_type": "code",
      "source": [
        "conn = sqlite3.connect(\"churn (1).db\")\n",
        "cur = conn.cursor()"
      ],
      "metadata": {
        "id": "E9Rgwk-qy5Sf"
      },
      "execution_count": null,
      "outputs": []
    },
    {
      "cell_type": "code",
      "source": [
        "df = pd.read_sql(\"SELECT * FROM churn_all\", conn)"
      ],
      "metadata": {
        "id": "b0Ql9m-UzAIA"
      },
      "execution_count": null,
      "outputs": []
    },
    {
      "cell_type": "code",
      "source": [
        "df.head()"
      ],
      "metadata": {
        "colab": {
          "base_uri": "https://localhost:8080/",
          "height": 386
        },
        "id": "0ej4O8jdz1d6",
        "outputId": "a9430273-77b3-4a3b-a098-d21424e4ac8a"
      },
      "execution_count": null,
      "outputs": [
        {
          "output_type": "execute_result",
          "data": {
            "text/plain": [
              "   CustomerID  Gender SeniorCitizen Partner Dependents       State   Latitude  \\\n",
              "0  3668-QPYBK    Male            No      No         No  California  33.964131   \n",
              "1  9237-HQITU  Female            No      No        Yes  California  34.059281   \n",
              "2  9305-CDSKC  Female            No      No        Yes  California  34.048013   \n",
              "3  7892-POOKP  Female            No     Yes        Yes  California  34.062125   \n",
              "4  0280-XJGEX    Male            No      No        Yes  California  34.039224   \n",
              "\n",
              "    Longitude  ZipCode PhoneService  ... TechSupport StreamingTV  \\\n",
              "0 -118.272783    90003          Yes  ...          No          No   \n",
              "1 -118.307420    90005          Yes  ...          No          No   \n",
              "2 -118.293953    90006          Yes  ...          No         Yes   \n",
              "3 -118.315709    90010          Yes  ...         Yes         Yes   \n",
              "4 -118.266293    90015          Yes  ...          No         Yes   \n",
              "\n",
              "  StreamingMovies Tenure        Contract              PaymentMethod  \\\n",
              "0              No      2  Month-to-month               Mailed check   \n",
              "1              No      2  Month-to-month           Electronic check   \n",
              "2             Yes      8  Month-to-month           Electronic check   \n",
              "3             Yes     28  Month-to-month           Electronic check   \n",
              "4             Yes     49  Month-to-month  Bank transfer (automatic)   \n",
              "\n",
              "  PaperlessBilling MonthlyCharges  TotalCharges Churn  \n",
              "0              Yes          53.85        108.15   Yes  \n",
              "1              Yes          70.70        151.65   Yes  \n",
              "2              Yes          99.65         820.5   Yes  \n",
              "3              Yes         104.80       3046.05   Yes  \n",
              "4              Yes         103.70        5036.3   Yes  \n",
              "\n",
              "[5 rows x 25 columns]"
            ],
            "text/html": [
              "\n",
              "  <div id=\"df-654627d1-6932-4096-90de-b06b025b2bbf\">\n",
              "    <div class=\"colab-df-container\">\n",
              "      <div>\n",
              "<style scoped>\n",
              "    .dataframe tbody tr th:only-of-type {\n",
              "        vertical-align: middle;\n",
              "    }\n",
              "\n",
              "    .dataframe tbody tr th {\n",
              "        vertical-align: top;\n",
              "    }\n",
              "\n",
              "    .dataframe thead th {\n",
              "        text-align: right;\n",
              "    }\n",
              "</style>\n",
              "<table border=\"1\" class=\"dataframe\">\n",
              "  <thead>\n",
              "    <tr style=\"text-align: right;\">\n",
              "      <th></th>\n",
              "      <th>CustomerID</th>\n",
              "      <th>Gender</th>\n",
              "      <th>SeniorCitizen</th>\n",
              "      <th>Partner</th>\n",
              "      <th>Dependents</th>\n",
              "      <th>State</th>\n",
              "      <th>Latitude</th>\n",
              "      <th>Longitude</th>\n",
              "      <th>ZipCode</th>\n",
              "      <th>PhoneService</th>\n",
              "      <th>...</th>\n",
              "      <th>TechSupport</th>\n",
              "      <th>StreamingTV</th>\n",
              "      <th>StreamingMovies</th>\n",
              "      <th>Tenure</th>\n",
              "      <th>Contract</th>\n",
              "      <th>PaymentMethod</th>\n",
              "      <th>PaperlessBilling</th>\n",
              "      <th>MonthlyCharges</th>\n",
              "      <th>TotalCharges</th>\n",
              "      <th>Churn</th>\n",
              "    </tr>\n",
              "  </thead>\n",
              "  <tbody>\n",
              "    <tr>\n",
              "      <th>0</th>\n",
              "      <td>3668-QPYBK</td>\n",
              "      <td>Male</td>\n",
              "      <td>No</td>\n",
              "      <td>No</td>\n",
              "      <td>No</td>\n",
              "      <td>California</td>\n",
              "      <td>33.964131</td>\n",
              "      <td>-118.272783</td>\n",
              "      <td>90003</td>\n",
              "      <td>Yes</td>\n",
              "      <td>...</td>\n",
              "      <td>No</td>\n",
              "      <td>No</td>\n",
              "      <td>No</td>\n",
              "      <td>2</td>\n",
              "      <td>Month-to-month</td>\n",
              "      <td>Mailed check</td>\n",
              "      <td>Yes</td>\n",
              "      <td>53.85</td>\n",
              "      <td>108.15</td>\n",
              "      <td>Yes</td>\n",
              "    </tr>\n",
              "    <tr>\n",
              "      <th>1</th>\n",
              "      <td>9237-HQITU</td>\n",
              "      <td>Female</td>\n",
              "      <td>No</td>\n",
              "      <td>No</td>\n",
              "      <td>Yes</td>\n",
              "      <td>California</td>\n",
              "      <td>34.059281</td>\n",
              "      <td>-118.307420</td>\n",
              "      <td>90005</td>\n",
              "      <td>Yes</td>\n",
              "      <td>...</td>\n",
              "      <td>No</td>\n",
              "      <td>No</td>\n",
              "      <td>No</td>\n",
              "      <td>2</td>\n",
              "      <td>Month-to-month</td>\n",
              "      <td>Electronic check</td>\n",
              "      <td>Yes</td>\n",
              "      <td>70.70</td>\n",
              "      <td>151.65</td>\n",
              "      <td>Yes</td>\n",
              "    </tr>\n",
              "    <tr>\n",
              "      <th>2</th>\n",
              "      <td>9305-CDSKC</td>\n",
              "      <td>Female</td>\n",
              "      <td>No</td>\n",
              "      <td>No</td>\n",
              "      <td>Yes</td>\n",
              "      <td>California</td>\n",
              "      <td>34.048013</td>\n",
              "      <td>-118.293953</td>\n",
              "      <td>90006</td>\n",
              "      <td>Yes</td>\n",
              "      <td>...</td>\n",
              "      <td>No</td>\n",
              "      <td>Yes</td>\n",
              "      <td>Yes</td>\n",
              "      <td>8</td>\n",
              "      <td>Month-to-month</td>\n",
              "      <td>Electronic check</td>\n",
              "      <td>Yes</td>\n",
              "      <td>99.65</td>\n",
              "      <td>820.5</td>\n",
              "      <td>Yes</td>\n",
              "    </tr>\n",
              "    <tr>\n",
              "      <th>3</th>\n",
              "      <td>7892-POOKP</td>\n",
              "      <td>Female</td>\n",
              "      <td>No</td>\n",
              "      <td>Yes</td>\n",
              "      <td>Yes</td>\n",
              "      <td>California</td>\n",
              "      <td>34.062125</td>\n",
              "      <td>-118.315709</td>\n",
              "      <td>90010</td>\n",
              "      <td>Yes</td>\n",
              "      <td>...</td>\n",
              "      <td>Yes</td>\n",
              "      <td>Yes</td>\n",
              "      <td>Yes</td>\n",
              "      <td>28</td>\n",
              "      <td>Month-to-month</td>\n",
              "      <td>Electronic check</td>\n",
              "      <td>Yes</td>\n",
              "      <td>104.80</td>\n",
              "      <td>3046.05</td>\n",
              "      <td>Yes</td>\n",
              "    </tr>\n",
              "    <tr>\n",
              "      <th>4</th>\n",
              "      <td>0280-XJGEX</td>\n",
              "      <td>Male</td>\n",
              "      <td>No</td>\n",
              "      <td>No</td>\n",
              "      <td>Yes</td>\n",
              "      <td>California</td>\n",
              "      <td>34.039224</td>\n",
              "      <td>-118.266293</td>\n",
              "      <td>90015</td>\n",
              "      <td>Yes</td>\n",
              "      <td>...</td>\n",
              "      <td>No</td>\n",
              "      <td>Yes</td>\n",
              "      <td>Yes</td>\n",
              "      <td>49</td>\n",
              "      <td>Month-to-month</td>\n",
              "      <td>Bank transfer (automatic)</td>\n",
              "      <td>Yes</td>\n",
              "      <td>103.70</td>\n",
              "      <td>5036.3</td>\n",
              "      <td>Yes</td>\n",
              "    </tr>\n",
              "  </tbody>\n",
              "</table>\n",
              "<p>5 rows × 25 columns</p>\n",
              "</div>\n",
              "      <button class=\"colab-df-convert\" onclick=\"convertToInteractive('df-654627d1-6932-4096-90de-b06b025b2bbf')\"\n",
              "              title=\"Convert this dataframe to an interactive table.\"\n",
              "              style=\"display:none;\">\n",
              "        \n",
              "  <svg xmlns=\"http://www.w3.org/2000/svg\" height=\"24px\"viewBox=\"0 0 24 24\"\n",
              "       width=\"24px\">\n",
              "    <path d=\"M0 0h24v24H0V0z\" fill=\"none\"/>\n",
              "    <path d=\"M18.56 5.44l.94 2.06.94-2.06 2.06-.94-2.06-.94-.94-2.06-.94 2.06-2.06.94zm-11 1L8.5 8.5l.94-2.06 2.06-.94-2.06-.94L8.5 2.5l-.94 2.06-2.06.94zm10 10l.94 2.06.94-2.06 2.06-.94-2.06-.94-.94-2.06-.94 2.06-2.06.94z\"/><path d=\"M17.41 7.96l-1.37-1.37c-.4-.4-.92-.59-1.43-.59-.52 0-1.04.2-1.43.59L10.3 9.45l-7.72 7.72c-.78.78-.78 2.05 0 2.83L4 21.41c.39.39.9.59 1.41.59.51 0 1.02-.2 1.41-.59l7.78-7.78 2.81-2.81c.8-.78.8-2.07 0-2.86zM5.41 20L4 18.59l7.72-7.72 1.47 1.35L5.41 20z\"/>\n",
              "  </svg>\n",
              "      </button>\n",
              "      \n",
              "  <style>\n",
              "    .colab-df-container {\n",
              "      display:flex;\n",
              "      flex-wrap:wrap;\n",
              "      gap: 12px;\n",
              "    }\n",
              "\n",
              "    .colab-df-convert {\n",
              "      background-color: #E8F0FE;\n",
              "      border: none;\n",
              "      border-radius: 50%;\n",
              "      cursor: pointer;\n",
              "      display: none;\n",
              "      fill: #1967D2;\n",
              "      height: 32px;\n",
              "      padding: 0 0 0 0;\n",
              "      width: 32px;\n",
              "    }\n",
              "\n",
              "    .colab-df-convert:hover {\n",
              "      background-color: #E2EBFA;\n",
              "      box-shadow: 0px 1px 2px rgba(60, 64, 67, 0.3), 0px 1px 3px 1px rgba(60, 64, 67, 0.15);\n",
              "      fill: #174EA6;\n",
              "    }\n",
              "\n",
              "    [theme=dark] .colab-df-convert {\n",
              "      background-color: #3B4455;\n",
              "      fill: #D2E3FC;\n",
              "    }\n",
              "\n",
              "    [theme=dark] .colab-df-convert:hover {\n",
              "      background-color: #434B5C;\n",
              "      box-shadow: 0px 1px 3px 1px rgba(0, 0, 0, 0.15);\n",
              "      filter: drop-shadow(0px 1px 2px rgba(0, 0, 0, 0.3));\n",
              "      fill: #FFFFFF;\n",
              "    }\n",
              "  </style>\n",
              "\n",
              "      <script>\n",
              "        const buttonEl =\n",
              "          document.querySelector('#df-654627d1-6932-4096-90de-b06b025b2bbf button.colab-df-convert');\n",
              "        buttonEl.style.display =\n",
              "          google.colab.kernel.accessAllowed ? 'block' : 'none';\n",
              "\n",
              "        async function convertToInteractive(key) {\n",
              "          const element = document.querySelector('#df-654627d1-6932-4096-90de-b06b025b2bbf');\n",
              "          const dataTable =\n",
              "            await google.colab.kernel.invokeFunction('convertToInteractive',\n",
              "                                                     [key], {});\n",
              "          if (!dataTable) return;\n",
              "\n",
              "          const docLinkHtml = 'Like what you see? Visit the ' +\n",
              "            '<a target=\"_blank\" href=https://colab.research.google.com/notebooks/data_table.ipynb>data table notebook</a>'\n",
              "            + ' to learn more about interactive tables.';\n",
              "          element.innerHTML = '';\n",
              "          dataTable['output_type'] = 'display_data';\n",
              "          await google.colab.output.renderOutput(dataTable, element);\n",
              "          const docLink = document.createElement('div');\n",
              "          docLink.innerHTML = docLinkHtml;\n",
              "          element.appendChild(docLink);\n",
              "        }\n",
              "      </script>\n",
              "    </div>\n",
              "  </div>\n",
              "  "
            ]
          },
          "metadata": {},
          "execution_count": 9
        }
      ]
    },
    {
      "cell_type": "markdown",
      "source": [
        "##For those customers who unsubscribed the service, what was their average LTV? and how long did they usually stay in the service?\n"
      ],
      "metadata": {
        "id": "IkJ4rvIFOj1Q"
      }
    },
    {
      "cell_type": "code",
      "source": [
        "## Extract those who unsubscribed the serviced (Churn = Yes)\n",
        "\n",
        "churn_df = pd.read_sql(\"SELECT * FROM churn_all where Churn='Yes'\",conn)"
      ],
      "metadata": {
        "id": "eEyMjtBm6gBQ"
      },
      "execution_count": null,
      "outputs": []
    },
    {
      "cell_type": "code",
      "source": [
        "## Examine the distribution of TotalCharges\n",
        "churn_df[\"TotalCharges\"].describe()"
      ],
      "metadata": {
        "colab": {
          "base_uri": "https://localhost:8080/"
        },
        "id": "PTLWjBQSPN4S",
        "outputId": "c403a353-87df-4fe6-a6fc-4014925fe05b"
      },
      "execution_count": null,
      "outputs": [
        {
          "output_type": "execute_result",
          "data": {
            "text/plain": [
              "count    1869.000000\n",
              "mean     1531.796094\n",
              "std      1890.822994\n",
              "min        18.850000\n",
              "25%       134.500000\n",
              "50%       703.550000\n",
              "75%      2331.300000\n",
              "max      8684.800000\n",
              "Name: TotalCharges, dtype: float64"
            ]
          },
          "metadata": {},
          "execution_count": 6
        }
      ]
    },
    {
      "cell_type": "markdown",
      "source": [
        "20% of the charges are very high"
      ],
      "metadata": {
        "id": "Gju5KDfNXGY_"
      }
    },
    {
      "cell_type": "code",
      "source": [
        "## Find 80th percentile of the data in TotalCharge\n",
        "churn_df.TotalCharges.quantile(0.8)"
      ],
      "metadata": {
        "colab": {
          "base_uri": "https://localhost:8080/"
        },
        "id": "aX1B0ZYXQOC6",
        "outputId": "59411781-4e49-43da-8712-c5099cd2a111"
      },
      "execution_count": null,
      "outputs": [
        {
          "output_type": "execute_result",
          "data": {
            "text/plain": [
              "2840.4100000000003"
            ]
          },
          "metadata": {},
          "execution_count": 7
        }
      ]
    },
    {
      "cell_type": "code",
      "source": [
        "pd.read_sql(\"select * from churn_all where TotalCharges <= 2840.41\", conn)"
      ],
      "metadata": {
        "id": "NIizM8UfVUnR",
        "colab": {
          "base_uri": "https://localhost:8080/",
          "height": 661
        },
        "outputId": "bdaf36ad-9997-4ff5-f4d9-ef577d449856"
      },
      "execution_count": null,
      "outputs": [
        {
          "output_type": "execute_result",
          "data": {
            "text/plain": [
              "      CustomerID  Gender SeniorCitizen Partner Dependents       State  \\\n",
              "0     3668-QPYBK    Male            No      No         No  California   \n",
              "1     9237-HQITU  Female            No      No        Yes  California   \n",
              "2     9305-CDSKC  Female            No      No        Yes  California   \n",
              "3     4190-MFLUW  Female            No     Yes         No  California   \n",
              "4     8779-QRDMV    Male           Yes      No         No  California   \n",
              "...          ...     ...           ...     ...        ...         ...   \n",
              "4734  8456-QDAVC    Male            No      No         No  California   \n",
              "4735  7750-EYXWZ  Female            No      No         No  California   \n",
              "4736  2569-WGERO  Female            No      No         No  California   \n",
              "4737  6840-RESVB    Male            No     Yes        Yes  California   \n",
              "4738  4801-JZAZL  Female            No     Yes        Yes  California   \n",
              "\n",
              "       Latitude   Longitude  ZipCode PhoneService  ...          TechSupport  \\\n",
              "0     33.964131 -118.272783    90003          Yes  ...                   No   \n",
              "1     34.059281 -118.307420    90005          Yes  ...                   No   \n",
              "2     34.048013 -118.293953    90006          Yes  ...                   No   \n",
              "3     34.066367 -118.309868    90020          Yes  ...                  Yes   \n",
              "4     34.023810 -118.156582    90022           No  ...                   No   \n",
              "...         ...         ...      ...          ...  ...                  ...   \n",
              "4734  32.852947 -114.850784    92283          Yes  ...                   No   \n",
              "4735  34.159534 -116.425984    92284           No  ...                  Yes   \n",
              "4736  34.341737 -116.539416    92285          Yes  ...  No internet service   \n",
              "4737  34.667815 -117.536183    92301          Yes  ...                  Yes   \n",
              "4738  34.167800 -116.864330    92305           No  ...                   No   \n",
              "\n",
              "              StreamingTV      StreamingMovies Tenure        Contract  \\\n",
              "0                      No                   No      2  Month-to-month   \n",
              "1                      No                   No      2  Month-to-month   \n",
              "2                     Yes                  Yes      8  Month-to-month   \n",
              "3                      No                   No     10  Month-to-month   \n",
              "4                      No                  Yes      1  Month-to-month   \n",
              "...                   ...                  ...    ...             ...   \n",
              "4734                  Yes                   No     19  Month-to-month   \n",
              "4735                  Yes                  Yes     12        One year   \n",
              "4736  No internet service  No internet service     72        Two year   \n",
              "4737                  Yes                  Yes     24        One year   \n",
              "4738                   No                   No     11  Month-to-month   \n",
              "\n",
              "                  PaymentMethod PaperlessBilling MonthlyCharges  TotalCharges  \\\n",
              "0                  Mailed check              Yes          53.85        108.15   \n",
              "1              Electronic check              Yes          70.70        151.65   \n",
              "2              Electronic check              Yes          99.65        820.50   \n",
              "3       Credit card (automatic)               No          55.20        528.35   \n",
              "4              Electronic check              Yes          39.65         39.65   \n",
              "...                         ...              ...            ...           ...   \n",
              "4734  Bank transfer (automatic)              Yes          78.70       1495.10   \n",
              "4735           Electronic check               No          60.65        743.30   \n",
              "4736  Bank transfer (automatic)              Yes          21.15       1419.40   \n",
              "4737               Mailed check              Yes          84.80       1990.50   \n",
              "4738           Electronic check              Yes          29.60        346.45   \n",
              "\n",
              "     Churn  \n",
              "0      Yes  \n",
              "1      Yes  \n",
              "2      Yes  \n",
              "3      Yes  \n",
              "4      Yes  \n",
              "...    ...  \n",
              "4734    No  \n",
              "4735    No  \n",
              "4736    No  \n",
              "4737    No  \n",
              "4738    No  \n",
              "\n",
              "[4739 rows x 25 columns]"
            ],
            "text/html": [
              "\n",
              "  <div id=\"df-c58a74e1-3d14-4ca0-a106-860da5325e96\">\n",
              "    <div class=\"colab-df-container\">\n",
              "      <div>\n",
              "<style scoped>\n",
              "    .dataframe tbody tr th:only-of-type {\n",
              "        vertical-align: middle;\n",
              "    }\n",
              "\n",
              "    .dataframe tbody tr th {\n",
              "        vertical-align: top;\n",
              "    }\n",
              "\n",
              "    .dataframe thead th {\n",
              "        text-align: right;\n",
              "    }\n",
              "</style>\n",
              "<table border=\"1\" class=\"dataframe\">\n",
              "  <thead>\n",
              "    <tr style=\"text-align: right;\">\n",
              "      <th></th>\n",
              "      <th>CustomerID</th>\n",
              "      <th>Gender</th>\n",
              "      <th>SeniorCitizen</th>\n",
              "      <th>Partner</th>\n",
              "      <th>Dependents</th>\n",
              "      <th>State</th>\n",
              "      <th>Latitude</th>\n",
              "      <th>Longitude</th>\n",
              "      <th>ZipCode</th>\n",
              "      <th>PhoneService</th>\n",
              "      <th>...</th>\n",
              "      <th>TechSupport</th>\n",
              "      <th>StreamingTV</th>\n",
              "      <th>StreamingMovies</th>\n",
              "      <th>Tenure</th>\n",
              "      <th>Contract</th>\n",
              "      <th>PaymentMethod</th>\n",
              "      <th>PaperlessBilling</th>\n",
              "      <th>MonthlyCharges</th>\n",
              "      <th>TotalCharges</th>\n",
              "      <th>Churn</th>\n",
              "    </tr>\n",
              "  </thead>\n",
              "  <tbody>\n",
              "    <tr>\n",
              "      <th>0</th>\n",
              "      <td>3668-QPYBK</td>\n",
              "      <td>Male</td>\n",
              "      <td>No</td>\n",
              "      <td>No</td>\n",
              "      <td>No</td>\n",
              "      <td>California</td>\n",
              "      <td>33.964131</td>\n",
              "      <td>-118.272783</td>\n",
              "      <td>90003</td>\n",
              "      <td>Yes</td>\n",
              "      <td>...</td>\n",
              "      <td>No</td>\n",
              "      <td>No</td>\n",
              "      <td>No</td>\n",
              "      <td>2</td>\n",
              "      <td>Month-to-month</td>\n",
              "      <td>Mailed check</td>\n",
              "      <td>Yes</td>\n",
              "      <td>53.85</td>\n",
              "      <td>108.15</td>\n",
              "      <td>Yes</td>\n",
              "    </tr>\n",
              "    <tr>\n",
              "      <th>1</th>\n",
              "      <td>9237-HQITU</td>\n",
              "      <td>Female</td>\n",
              "      <td>No</td>\n",
              "      <td>No</td>\n",
              "      <td>Yes</td>\n",
              "      <td>California</td>\n",
              "      <td>34.059281</td>\n",
              "      <td>-118.307420</td>\n",
              "      <td>90005</td>\n",
              "      <td>Yes</td>\n",
              "      <td>...</td>\n",
              "      <td>No</td>\n",
              "      <td>No</td>\n",
              "      <td>No</td>\n",
              "      <td>2</td>\n",
              "      <td>Month-to-month</td>\n",
              "      <td>Electronic check</td>\n",
              "      <td>Yes</td>\n",
              "      <td>70.70</td>\n",
              "      <td>151.65</td>\n",
              "      <td>Yes</td>\n",
              "    </tr>\n",
              "    <tr>\n",
              "      <th>2</th>\n",
              "      <td>9305-CDSKC</td>\n",
              "      <td>Female</td>\n",
              "      <td>No</td>\n",
              "      <td>No</td>\n",
              "      <td>Yes</td>\n",
              "      <td>California</td>\n",
              "      <td>34.048013</td>\n",
              "      <td>-118.293953</td>\n",
              "      <td>90006</td>\n",
              "      <td>Yes</td>\n",
              "      <td>...</td>\n",
              "      <td>No</td>\n",
              "      <td>Yes</td>\n",
              "      <td>Yes</td>\n",
              "      <td>8</td>\n",
              "      <td>Month-to-month</td>\n",
              "      <td>Electronic check</td>\n",
              "      <td>Yes</td>\n",
              "      <td>99.65</td>\n",
              "      <td>820.50</td>\n",
              "      <td>Yes</td>\n",
              "    </tr>\n",
              "    <tr>\n",
              "      <th>3</th>\n",
              "      <td>4190-MFLUW</td>\n",
              "      <td>Female</td>\n",
              "      <td>No</td>\n",
              "      <td>Yes</td>\n",
              "      <td>No</td>\n",
              "      <td>California</td>\n",
              "      <td>34.066367</td>\n",
              "      <td>-118.309868</td>\n",
              "      <td>90020</td>\n",
              "      <td>Yes</td>\n",
              "      <td>...</td>\n",
              "      <td>Yes</td>\n",
              "      <td>No</td>\n",
              "      <td>No</td>\n",
              "      <td>10</td>\n",
              "      <td>Month-to-month</td>\n",
              "      <td>Credit card (automatic)</td>\n",
              "      <td>No</td>\n",
              "      <td>55.20</td>\n",
              "      <td>528.35</td>\n",
              "      <td>Yes</td>\n",
              "    </tr>\n",
              "    <tr>\n",
              "      <th>4</th>\n",
              "      <td>8779-QRDMV</td>\n",
              "      <td>Male</td>\n",
              "      <td>Yes</td>\n",
              "      <td>No</td>\n",
              "      <td>No</td>\n",
              "      <td>California</td>\n",
              "      <td>34.023810</td>\n",
              "      <td>-118.156582</td>\n",
              "      <td>90022</td>\n",
              "      <td>No</td>\n",
              "      <td>...</td>\n",
              "      <td>No</td>\n",
              "      <td>No</td>\n",
              "      <td>Yes</td>\n",
              "      <td>1</td>\n",
              "      <td>Month-to-month</td>\n",
              "      <td>Electronic check</td>\n",
              "      <td>Yes</td>\n",
              "      <td>39.65</td>\n",
              "      <td>39.65</td>\n",
              "      <td>Yes</td>\n",
              "    </tr>\n",
              "    <tr>\n",
              "      <th>...</th>\n",
              "      <td>...</td>\n",
              "      <td>...</td>\n",
              "      <td>...</td>\n",
              "      <td>...</td>\n",
              "      <td>...</td>\n",
              "      <td>...</td>\n",
              "      <td>...</td>\n",
              "      <td>...</td>\n",
              "      <td>...</td>\n",
              "      <td>...</td>\n",
              "      <td>...</td>\n",
              "      <td>...</td>\n",
              "      <td>...</td>\n",
              "      <td>...</td>\n",
              "      <td>...</td>\n",
              "      <td>...</td>\n",
              "      <td>...</td>\n",
              "      <td>...</td>\n",
              "      <td>...</td>\n",
              "      <td>...</td>\n",
              "      <td>...</td>\n",
              "    </tr>\n",
              "    <tr>\n",
              "      <th>4734</th>\n",
              "      <td>8456-QDAVC</td>\n",
              "      <td>Male</td>\n",
              "      <td>No</td>\n",
              "      <td>No</td>\n",
              "      <td>No</td>\n",
              "      <td>California</td>\n",
              "      <td>32.852947</td>\n",
              "      <td>-114.850784</td>\n",
              "      <td>92283</td>\n",
              "      <td>Yes</td>\n",
              "      <td>...</td>\n",
              "      <td>No</td>\n",
              "      <td>Yes</td>\n",
              "      <td>No</td>\n",
              "      <td>19</td>\n",
              "      <td>Month-to-month</td>\n",
              "      <td>Bank transfer (automatic)</td>\n",
              "      <td>Yes</td>\n",
              "      <td>78.70</td>\n",
              "      <td>1495.10</td>\n",
              "      <td>No</td>\n",
              "    </tr>\n",
              "    <tr>\n",
              "      <th>4735</th>\n",
              "      <td>7750-EYXWZ</td>\n",
              "      <td>Female</td>\n",
              "      <td>No</td>\n",
              "      <td>No</td>\n",
              "      <td>No</td>\n",
              "      <td>California</td>\n",
              "      <td>34.159534</td>\n",
              "      <td>-116.425984</td>\n",
              "      <td>92284</td>\n",
              "      <td>No</td>\n",
              "      <td>...</td>\n",
              "      <td>Yes</td>\n",
              "      <td>Yes</td>\n",
              "      <td>Yes</td>\n",
              "      <td>12</td>\n",
              "      <td>One year</td>\n",
              "      <td>Electronic check</td>\n",
              "      <td>No</td>\n",
              "      <td>60.65</td>\n",
              "      <td>743.30</td>\n",
              "      <td>No</td>\n",
              "    </tr>\n",
              "    <tr>\n",
              "      <th>4736</th>\n",
              "      <td>2569-WGERO</td>\n",
              "      <td>Female</td>\n",
              "      <td>No</td>\n",
              "      <td>No</td>\n",
              "      <td>No</td>\n",
              "      <td>California</td>\n",
              "      <td>34.341737</td>\n",
              "      <td>-116.539416</td>\n",
              "      <td>92285</td>\n",
              "      <td>Yes</td>\n",
              "      <td>...</td>\n",
              "      <td>No internet service</td>\n",
              "      <td>No internet service</td>\n",
              "      <td>No internet service</td>\n",
              "      <td>72</td>\n",
              "      <td>Two year</td>\n",
              "      <td>Bank transfer (automatic)</td>\n",
              "      <td>Yes</td>\n",
              "      <td>21.15</td>\n",
              "      <td>1419.40</td>\n",
              "      <td>No</td>\n",
              "    </tr>\n",
              "    <tr>\n",
              "      <th>4737</th>\n",
              "      <td>6840-RESVB</td>\n",
              "      <td>Male</td>\n",
              "      <td>No</td>\n",
              "      <td>Yes</td>\n",
              "      <td>Yes</td>\n",
              "      <td>California</td>\n",
              "      <td>34.667815</td>\n",
              "      <td>-117.536183</td>\n",
              "      <td>92301</td>\n",
              "      <td>Yes</td>\n",
              "      <td>...</td>\n",
              "      <td>Yes</td>\n",
              "      <td>Yes</td>\n",
              "      <td>Yes</td>\n",
              "      <td>24</td>\n",
              "      <td>One year</td>\n",
              "      <td>Mailed check</td>\n",
              "      <td>Yes</td>\n",
              "      <td>84.80</td>\n",
              "      <td>1990.50</td>\n",
              "      <td>No</td>\n",
              "    </tr>\n",
              "    <tr>\n",
              "      <th>4738</th>\n",
              "      <td>4801-JZAZL</td>\n",
              "      <td>Female</td>\n",
              "      <td>No</td>\n",
              "      <td>Yes</td>\n",
              "      <td>Yes</td>\n",
              "      <td>California</td>\n",
              "      <td>34.167800</td>\n",
              "      <td>-116.864330</td>\n",
              "      <td>92305</td>\n",
              "      <td>No</td>\n",
              "      <td>...</td>\n",
              "      <td>No</td>\n",
              "      <td>No</td>\n",
              "      <td>No</td>\n",
              "      <td>11</td>\n",
              "      <td>Month-to-month</td>\n",
              "      <td>Electronic check</td>\n",
              "      <td>Yes</td>\n",
              "      <td>29.60</td>\n",
              "      <td>346.45</td>\n",
              "      <td>No</td>\n",
              "    </tr>\n",
              "  </tbody>\n",
              "</table>\n",
              "<p>4739 rows × 25 columns</p>\n",
              "</div>\n",
              "      <button class=\"colab-df-convert\" onclick=\"convertToInteractive('df-c58a74e1-3d14-4ca0-a106-860da5325e96')\"\n",
              "              title=\"Convert this dataframe to an interactive table.\"\n",
              "              style=\"display:none;\">\n",
              "        \n",
              "  <svg xmlns=\"http://www.w3.org/2000/svg\" height=\"24px\"viewBox=\"0 0 24 24\"\n",
              "       width=\"24px\">\n",
              "    <path d=\"M0 0h24v24H0V0z\" fill=\"none\"/>\n",
              "    <path d=\"M18.56 5.44l.94 2.06.94-2.06 2.06-.94-2.06-.94-.94-2.06-.94 2.06-2.06.94zm-11 1L8.5 8.5l.94-2.06 2.06-.94-2.06-.94L8.5 2.5l-.94 2.06-2.06.94zm10 10l.94 2.06.94-2.06 2.06-.94-2.06-.94-.94-2.06-.94 2.06-2.06.94z\"/><path d=\"M17.41 7.96l-1.37-1.37c-.4-.4-.92-.59-1.43-.59-.52 0-1.04.2-1.43.59L10.3 9.45l-7.72 7.72c-.78.78-.78 2.05 0 2.83L4 21.41c.39.39.9.59 1.41.59.51 0 1.02-.2 1.41-.59l7.78-7.78 2.81-2.81c.8-.78.8-2.07 0-2.86zM5.41 20L4 18.59l7.72-7.72 1.47 1.35L5.41 20z\"/>\n",
              "  </svg>\n",
              "      </button>\n",
              "      \n",
              "  <style>\n",
              "    .colab-df-container {\n",
              "      display:flex;\n",
              "      flex-wrap:wrap;\n",
              "      gap: 12px;\n",
              "    }\n",
              "\n",
              "    .colab-df-convert {\n",
              "      background-color: #E8F0FE;\n",
              "      border: none;\n",
              "      border-radius: 50%;\n",
              "      cursor: pointer;\n",
              "      display: none;\n",
              "      fill: #1967D2;\n",
              "      height: 32px;\n",
              "      padding: 0 0 0 0;\n",
              "      width: 32px;\n",
              "    }\n",
              "\n",
              "    .colab-df-convert:hover {\n",
              "      background-color: #E2EBFA;\n",
              "      box-shadow: 0px 1px 2px rgba(60, 64, 67, 0.3), 0px 1px 3px 1px rgba(60, 64, 67, 0.15);\n",
              "      fill: #174EA6;\n",
              "    }\n",
              "\n",
              "    [theme=dark] .colab-df-convert {\n",
              "      background-color: #3B4455;\n",
              "      fill: #D2E3FC;\n",
              "    }\n",
              "\n",
              "    [theme=dark] .colab-df-convert:hover {\n",
              "      background-color: #434B5C;\n",
              "      box-shadow: 0px 1px 3px 1px rgba(0, 0, 0, 0.15);\n",
              "      filter: drop-shadow(0px 1px 2px rgba(0, 0, 0, 0.3));\n",
              "      fill: #FFFFFF;\n",
              "    }\n",
              "  </style>\n",
              "\n",
              "      <script>\n",
              "        const buttonEl =\n",
              "          document.querySelector('#df-c58a74e1-3d14-4ca0-a106-860da5325e96 button.colab-df-convert');\n",
              "        buttonEl.style.display =\n",
              "          google.colab.kernel.accessAllowed ? 'block' : 'none';\n",
              "\n",
              "        async function convertToInteractive(key) {\n",
              "          const element = document.querySelector('#df-c58a74e1-3d14-4ca0-a106-860da5325e96');\n",
              "          const dataTable =\n",
              "            await google.colab.kernel.invokeFunction('convertToInteractive',\n",
              "                                                     [key], {});\n",
              "          if (!dataTable) return;\n",
              "\n",
              "          const docLinkHtml = 'Like what you see? Visit the ' +\n",
              "            '<a target=\"_blank\" href=https://colab.research.google.com/notebooks/data_table.ipynb>data table notebook</a>'\n",
              "            + ' to learn more about interactive tables.';\n",
              "          element.innerHTML = '';\n",
              "          dataTable['output_type'] = 'display_data';\n",
              "          await google.colab.output.renderOutput(dataTable, element);\n",
              "          const docLink = document.createElement('div');\n",
              "          docLink.innerHTML = docLinkHtml;\n",
              "          element.appendChild(docLink);\n",
              "        }\n",
              "      </script>\n",
              "    </div>\n",
              "  </div>\n",
              "  "
            ]
          },
          "metadata": {},
          "execution_count": 10
        }
      ]
    },
    {
      "cell_type": "code",
      "source": [
        "churn_df.query(\"TotalCharges <= 2840.41\")"
      ],
      "metadata": {
        "colab": {
          "base_uri": "https://localhost:8080/",
          "height": 661
        },
        "id": "6G9-SRYsaZGe",
        "outputId": "ef5e1f8d-24bd-4f07-deaa-9a32abe919af"
      },
      "execution_count": null,
      "outputs": [
        {
          "output_type": "execute_result",
          "data": {
            "text/plain": [
              "      CustomerID  Gender SeniorCitizen Partner Dependents       State  \\\n",
              "0     3668-QPYBK    Male            No      No         No  California   \n",
              "1     9237-HQITU  Female            No      No        Yes  California   \n",
              "2     9305-CDSKC  Female            No      No        Yes  California   \n",
              "5     4190-MFLUW  Female            No     Yes         No  California   \n",
              "6     8779-QRDMV    Male           Yes      No         No  California   \n",
              "...          ...     ...           ...     ...        ...         ...   \n",
              "1863  1122-JWTJW    Male            No     Yes        Yes  California   \n",
              "1864  1699-HPSBG    Male            No      No         No  California   \n",
              "1865  8775-CEBBJ  Female            No      No         No  California   \n",
              "1866  6894-LFHLY    Male           Yes      No         No  California   \n",
              "1868  8361-LTMKD    Male           Yes     Yes         No  California   \n",
              "\n",
              "       Latitude   Longitude  ZipCode PhoneService  ... TechSupport  \\\n",
              "0     33.964131 -118.272783    90003          Yes  ...          No   \n",
              "1     34.059281 -118.307420    90005          Yes  ...          No   \n",
              "2     34.048013 -118.293953    90006          Yes  ...          No   \n",
              "5     34.066367 -118.309868    90020          Yes  ...         Yes   \n",
              "6     34.023810 -118.156582    90022           No  ...          No   \n",
              "...         ...         ...      ...          ...  ...         ...   \n",
              "1863  32.698964 -115.886656    92259          Yes  ...          No   \n",
              "1864  33.745746 -116.514215    92264          Yes  ...         Yes   \n",
              "1865  32.790282 -115.689559    92273          Yes  ...          No   \n",
              "1866  34.264124 -114.717964    92280          Yes  ...          No   \n",
              "1868  34.550820 -117.122396    92307          Yes  ...          No   \n",
              "\n",
              "     StreamingTV StreamingMovies Tenure        Contract  \\\n",
              "0             No              No      2  Month-to-month   \n",
              "1             No              No      2  Month-to-month   \n",
              "2            Yes             Yes      8  Month-to-month   \n",
              "5             No              No     10  Month-to-month   \n",
              "6             No             Yes      1  Month-to-month   \n",
              "...          ...             ...    ...             ...   \n",
              "1863          No              No      1  Month-to-month   \n",
              "1864         Yes              No     12        One year   \n",
              "1865          No              No      9  Month-to-month   \n",
              "1866          No              No      1  Month-to-month   \n",
              "1868          No              No      4  Month-to-month   \n",
              "\n",
              "                  PaymentMethod PaperlessBilling MonthlyCharges  TotalCharges  \\\n",
              "0                  Mailed check              Yes          53.85        108.15   \n",
              "1              Electronic check              Yes          70.70        151.65   \n",
              "2              Electronic check              Yes          99.65        820.50   \n",
              "5       Credit card (automatic)               No          55.20        528.35   \n",
              "6              Electronic check              Yes          39.65         39.65   \n",
              "...                         ...              ...            ...           ...   \n",
              "1863               Mailed check              Yes          70.65         70.65   \n",
              "1864           Electronic check              Yes          59.80        727.80   \n",
              "1865  Bank transfer (automatic)              Yes          44.20        403.35   \n",
              "1866           Electronic check              Yes          75.75         75.75   \n",
              "1868               Mailed check              Yes          74.40        306.60   \n",
              "\n",
              "     Churn  \n",
              "0      Yes  \n",
              "1      Yes  \n",
              "2      Yes  \n",
              "5      Yes  \n",
              "6      Yes  \n",
              "...    ...  \n",
              "1863   Yes  \n",
              "1864   Yes  \n",
              "1865   Yes  \n",
              "1866   Yes  \n",
              "1868   Yes  \n",
              "\n",
              "[1495 rows x 25 columns]"
            ],
            "text/html": [
              "\n",
              "  <div id=\"df-d38c06ab-e897-4dae-b7ed-ea2b8f2f5676\">\n",
              "    <div class=\"colab-df-container\">\n",
              "      <div>\n",
              "<style scoped>\n",
              "    .dataframe tbody tr th:only-of-type {\n",
              "        vertical-align: middle;\n",
              "    }\n",
              "\n",
              "    .dataframe tbody tr th {\n",
              "        vertical-align: top;\n",
              "    }\n",
              "\n",
              "    .dataframe thead th {\n",
              "        text-align: right;\n",
              "    }\n",
              "</style>\n",
              "<table border=\"1\" class=\"dataframe\">\n",
              "  <thead>\n",
              "    <tr style=\"text-align: right;\">\n",
              "      <th></th>\n",
              "      <th>CustomerID</th>\n",
              "      <th>Gender</th>\n",
              "      <th>SeniorCitizen</th>\n",
              "      <th>Partner</th>\n",
              "      <th>Dependents</th>\n",
              "      <th>State</th>\n",
              "      <th>Latitude</th>\n",
              "      <th>Longitude</th>\n",
              "      <th>ZipCode</th>\n",
              "      <th>PhoneService</th>\n",
              "      <th>...</th>\n",
              "      <th>TechSupport</th>\n",
              "      <th>StreamingTV</th>\n",
              "      <th>StreamingMovies</th>\n",
              "      <th>Tenure</th>\n",
              "      <th>Contract</th>\n",
              "      <th>PaymentMethod</th>\n",
              "      <th>PaperlessBilling</th>\n",
              "      <th>MonthlyCharges</th>\n",
              "      <th>TotalCharges</th>\n",
              "      <th>Churn</th>\n",
              "    </tr>\n",
              "  </thead>\n",
              "  <tbody>\n",
              "    <tr>\n",
              "      <th>0</th>\n",
              "      <td>3668-QPYBK</td>\n",
              "      <td>Male</td>\n",
              "      <td>No</td>\n",
              "      <td>No</td>\n",
              "      <td>No</td>\n",
              "      <td>California</td>\n",
              "      <td>33.964131</td>\n",
              "      <td>-118.272783</td>\n",
              "      <td>90003</td>\n",
              "      <td>Yes</td>\n",
              "      <td>...</td>\n",
              "      <td>No</td>\n",
              "      <td>No</td>\n",
              "      <td>No</td>\n",
              "      <td>2</td>\n",
              "      <td>Month-to-month</td>\n",
              "      <td>Mailed check</td>\n",
              "      <td>Yes</td>\n",
              "      <td>53.85</td>\n",
              "      <td>108.15</td>\n",
              "      <td>Yes</td>\n",
              "    </tr>\n",
              "    <tr>\n",
              "      <th>1</th>\n",
              "      <td>9237-HQITU</td>\n",
              "      <td>Female</td>\n",
              "      <td>No</td>\n",
              "      <td>No</td>\n",
              "      <td>Yes</td>\n",
              "      <td>California</td>\n",
              "      <td>34.059281</td>\n",
              "      <td>-118.307420</td>\n",
              "      <td>90005</td>\n",
              "      <td>Yes</td>\n",
              "      <td>...</td>\n",
              "      <td>No</td>\n",
              "      <td>No</td>\n",
              "      <td>No</td>\n",
              "      <td>2</td>\n",
              "      <td>Month-to-month</td>\n",
              "      <td>Electronic check</td>\n",
              "      <td>Yes</td>\n",
              "      <td>70.70</td>\n",
              "      <td>151.65</td>\n",
              "      <td>Yes</td>\n",
              "    </tr>\n",
              "    <tr>\n",
              "      <th>2</th>\n",
              "      <td>9305-CDSKC</td>\n",
              "      <td>Female</td>\n",
              "      <td>No</td>\n",
              "      <td>No</td>\n",
              "      <td>Yes</td>\n",
              "      <td>California</td>\n",
              "      <td>34.048013</td>\n",
              "      <td>-118.293953</td>\n",
              "      <td>90006</td>\n",
              "      <td>Yes</td>\n",
              "      <td>...</td>\n",
              "      <td>No</td>\n",
              "      <td>Yes</td>\n",
              "      <td>Yes</td>\n",
              "      <td>8</td>\n",
              "      <td>Month-to-month</td>\n",
              "      <td>Electronic check</td>\n",
              "      <td>Yes</td>\n",
              "      <td>99.65</td>\n",
              "      <td>820.50</td>\n",
              "      <td>Yes</td>\n",
              "    </tr>\n",
              "    <tr>\n",
              "      <th>5</th>\n",
              "      <td>4190-MFLUW</td>\n",
              "      <td>Female</td>\n",
              "      <td>No</td>\n",
              "      <td>Yes</td>\n",
              "      <td>No</td>\n",
              "      <td>California</td>\n",
              "      <td>34.066367</td>\n",
              "      <td>-118.309868</td>\n",
              "      <td>90020</td>\n",
              "      <td>Yes</td>\n",
              "      <td>...</td>\n",
              "      <td>Yes</td>\n",
              "      <td>No</td>\n",
              "      <td>No</td>\n",
              "      <td>10</td>\n",
              "      <td>Month-to-month</td>\n",
              "      <td>Credit card (automatic)</td>\n",
              "      <td>No</td>\n",
              "      <td>55.20</td>\n",
              "      <td>528.35</td>\n",
              "      <td>Yes</td>\n",
              "    </tr>\n",
              "    <tr>\n",
              "      <th>6</th>\n",
              "      <td>8779-QRDMV</td>\n",
              "      <td>Male</td>\n",
              "      <td>Yes</td>\n",
              "      <td>No</td>\n",
              "      <td>No</td>\n",
              "      <td>California</td>\n",
              "      <td>34.023810</td>\n",
              "      <td>-118.156582</td>\n",
              "      <td>90022</td>\n",
              "      <td>No</td>\n",
              "      <td>...</td>\n",
              "      <td>No</td>\n",
              "      <td>No</td>\n",
              "      <td>Yes</td>\n",
              "      <td>1</td>\n",
              "      <td>Month-to-month</td>\n",
              "      <td>Electronic check</td>\n",
              "      <td>Yes</td>\n",
              "      <td>39.65</td>\n",
              "      <td>39.65</td>\n",
              "      <td>Yes</td>\n",
              "    </tr>\n",
              "    <tr>\n",
              "      <th>...</th>\n",
              "      <td>...</td>\n",
              "      <td>...</td>\n",
              "      <td>...</td>\n",
              "      <td>...</td>\n",
              "      <td>...</td>\n",
              "      <td>...</td>\n",
              "      <td>...</td>\n",
              "      <td>...</td>\n",
              "      <td>...</td>\n",
              "      <td>...</td>\n",
              "      <td>...</td>\n",
              "      <td>...</td>\n",
              "      <td>...</td>\n",
              "      <td>...</td>\n",
              "      <td>...</td>\n",
              "      <td>...</td>\n",
              "      <td>...</td>\n",
              "      <td>...</td>\n",
              "      <td>...</td>\n",
              "      <td>...</td>\n",
              "      <td>...</td>\n",
              "    </tr>\n",
              "    <tr>\n",
              "      <th>1863</th>\n",
              "      <td>1122-JWTJW</td>\n",
              "      <td>Male</td>\n",
              "      <td>No</td>\n",
              "      <td>Yes</td>\n",
              "      <td>Yes</td>\n",
              "      <td>California</td>\n",
              "      <td>32.698964</td>\n",
              "      <td>-115.886656</td>\n",
              "      <td>92259</td>\n",
              "      <td>Yes</td>\n",
              "      <td>...</td>\n",
              "      <td>No</td>\n",
              "      <td>No</td>\n",
              "      <td>No</td>\n",
              "      <td>1</td>\n",
              "      <td>Month-to-month</td>\n",
              "      <td>Mailed check</td>\n",
              "      <td>Yes</td>\n",
              "      <td>70.65</td>\n",
              "      <td>70.65</td>\n",
              "      <td>Yes</td>\n",
              "    </tr>\n",
              "    <tr>\n",
              "      <th>1864</th>\n",
              "      <td>1699-HPSBG</td>\n",
              "      <td>Male</td>\n",
              "      <td>No</td>\n",
              "      <td>No</td>\n",
              "      <td>No</td>\n",
              "      <td>California</td>\n",
              "      <td>33.745746</td>\n",
              "      <td>-116.514215</td>\n",
              "      <td>92264</td>\n",
              "      <td>Yes</td>\n",
              "      <td>...</td>\n",
              "      <td>Yes</td>\n",
              "      <td>Yes</td>\n",
              "      <td>No</td>\n",
              "      <td>12</td>\n",
              "      <td>One year</td>\n",
              "      <td>Electronic check</td>\n",
              "      <td>Yes</td>\n",
              "      <td>59.80</td>\n",
              "      <td>727.80</td>\n",
              "      <td>Yes</td>\n",
              "    </tr>\n",
              "    <tr>\n",
              "      <th>1865</th>\n",
              "      <td>8775-CEBBJ</td>\n",
              "      <td>Female</td>\n",
              "      <td>No</td>\n",
              "      <td>No</td>\n",
              "      <td>No</td>\n",
              "      <td>California</td>\n",
              "      <td>32.790282</td>\n",
              "      <td>-115.689559</td>\n",
              "      <td>92273</td>\n",
              "      <td>Yes</td>\n",
              "      <td>...</td>\n",
              "      <td>No</td>\n",
              "      <td>No</td>\n",
              "      <td>No</td>\n",
              "      <td>9</td>\n",
              "      <td>Month-to-month</td>\n",
              "      <td>Bank transfer (automatic)</td>\n",
              "      <td>Yes</td>\n",
              "      <td>44.20</td>\n",
              "      <td>403.35</td>\n",
              "      <td>Yes</td>\n",
              "    </tr>\n",
              "    <tr>\n",
              "      <th>1866</th>\n",
              "      <td>6894-LFHLY</td>\n",
              "      <td>Male</td>\n",
              "      <td>Yes</td>\n",
              "      <td>No</td>\n",
              "      <td>No</td>\n",
              "      <td>California</td>\n",
              "      <td>34.264124</td>\n",
              "      <td>-114.717964</td>\n",
              "      <td>92280</td>\n",
              "      <td>Yes</td>\n",
              "      <td>...</td>\n",
              "      <td>No</td>\n",
              "      <td>No</td>\n",
              "      <td>No</td>\n",
              "      <td>1</td>\n",
              "      <td>Month-to-month</td>\n",
              "      <td>Electronic check</td>\n",
              "      <td>Yes</td>\n",
              "      <td>75.75</td>\n",
              "      <td>75.75</td>\n",
              "      <td>Yes</td>\n",
              "    </tr>\n",
              "    <tr>\n",
              "      <th>1868</th>\n",
              "      <td>8361-LTMKD</td>\n",
              "      <td>Male</td>\n",
              "      <td>Yes</td>\n",
              "      <td>Yes</td>\n",
              "      <td>No</td>\n",
              "      <td>California</td>\n",
              "      <td>34.550820</td>\n",
              "      <td>-117.122396</td>\n",
              "      <td>92307</td>\n",
              "      <td>Yes</td>\n",
              "      <td>...</td>\n",
              "      <td>No</td>\n",
              "      <td>No</td>\n",
              "      <td>No</td>\n",
              "      <td>4</td>\n",
              "      <td>Month-to-month</td>\n",
              "      <td>Mailed check</td>\n",
              "      <td>Yes</td>\n",
              "      <td>74.40</td>\n",
              "      <td>306.60</td>\n",
              "      <td>Yes</td>\n",
              "    </tr>\n",
              "  </tbody>\n",
              "</table>\n",
              "<p>1495 rows × 25 columns</p>\n",
              "</div>\n",
              "      <button class=\"colab-df-convert\" onclick=\"convertToInteractive('df-d38c06ab-e897-4dae-b7ed-ea2b8f2f5676')\"\n",
              "              title=\"Convert this dataframe to an interactive table.\"\n",
              "              style=\"display:none;\">\n",
              "        \n",
              "  <svg xmlns=\"http://www.w3.org/2000/svg\" height=\"24px\"viewBox=\"0 0 24 24\"\n",
              "       width=\"24px\">\n",
              "    <path d=\"M0 0h24v24H0V0z\" fill=\"none\"/>\n",
              "    <path d=\"M18.56 5.44l.94 2.06.94-2.06 2.06-.94-2.06-.94-.94-2.06-.94 2.06-2.06.94zm-11 1L8.5 8.5l.94-2.06 2.06-.94-2.06-.94L8.5 2.5l-.94 2.06-2.06.94zm10 10l.94 2.06.94-2.06 2.06-.94-2.06-.94-.94-2.06-.94 2.06-2.06.94z\"/><path d=\"M17.41 7.96l-1.37-1.37c-.4-.4-.92-.59-1.43-.59-.52 0-1.04.2-1.43.59L10.3 9.45l-7.72 7.72c-.78.78-.78 2.05 0 2.83L4 21.41c.39.39.9.59 1.41.59.51 0 1.02-.2 1.41-.59l7.78-7.78 2.81-2.81c.8-.78.8-2.07 0-2.86zM5.41 20L4 18.59l7.72-7.72 1.47 1.35L5.41 20z\"/>\n",
              "  </svg>\n",
              "      </button>\n",
              "      \n",
              "  <style>\n",
              "    .colab-df-container {\n",
              "      display:flex;\n",
              "      flex-wrap:wrap;\n",
              "      gap: 12px;\n",
              "    }\n",
              "\n",
              "    .colab-df-convert {\n",
              "      background-color: #E8F0FE;\n",
              "      border: none;\n",
              "      border-radius: 50%;\n",
              "      cursor: pointer;\n",
              "      display: none;\n",
              "      fill: #1967D2;\n",
              "      height: 32px;\n",
              "      padding: 0 0 0 0;\n",
              "      width: 32px;\n",
              "    }\n",
              "\n",
              "    .colab-df-convert:hover {\n",
              "      background-color: #E2EBFA;\n",
              "      box-shadow: 0px 1px 2px rgba(60, 64, 67, 0.3), 0px 1px 3px 1px rgba(60, 64, 67, 0.15);\n",
              "      fill: #174EA6;\n",
              "    }\n",
              "\n",
              "    [theme=dark] .colab-df-convert {\n",
              "      background-color: #3B4455;\n",
              "      fill: #D2E3FC;\n",
              "    }\n",
              "\n",
              "    [theme=dark] .colab-df-convert:hover {\n",
              "      background-color: #434B5C;\n",
              "      box-shadow: 0px 1px 3px 1px rgba(0, 0, 0, 0.15);\n",
              "      filter: drop-shadow(0px 1px 2px rgba(0, 0, 0, 0.3));\n",
              "      fill: #FFFFFF;\n",
              "    }\n",
              "  </style>\n",
              "\n",
              "      <script>\n",
              "        const buttonEl =\n",
              "          document.querySelector('#df-d38c06ab-e897-4dae-b7ed-ea2b8f2f5676 button.colab-df-convert');\n",
              "        buttonEl.style.display =\n",
              "          google.colab.kernel.accessAllowed ? 'block' : 'none';\n",
              "\n",
              "        async function convertToInteractive(key) {\n",
              "          const element = document.querySelector('#df-d38c06ab-e897-4dae-b7ed-ea2b8f2f5676');\n",
              "          const dataTable =\n",
              "            await google.colab.kernel.invokeFunction('convertToInteractive',\n",
              "                                                     [key], {});\n",
              "          if (!dataTable) return;\n",
              "\n",
              "          const docLinkHtml = 'Like what you see? Visit the ' +\n",
              "            '<a target=\"_blank\" href=https://colab.research.google.com/notebooks/data_table.ipynb>data table notebook</a>'\n",
              "            + ' to learn more about interactive tables.';\n",
              "          element.innerHTML = '';\n",
              "          dataTable['output_type'] = 'display_data';\n",
              "          await google.colab.output.renderOutput(dataTable, element);\n",
              "          const docLink = document.createElement('div');\n",
              "          docLink.innerHTML = docLinkHtml;\n",
              "          element.appendChild(docLink);\n",
              "        }\n",
              "      </script>\n",
              "    </div>\n",
              "  </div>\n",
              "  "
            ]
          },
          "metadata": {},
          "execution_count": 11
        }
      ]
    },
    {
      "cell_type": "code",
      "source": [
        "# Divide the data by the 80th percentile of the data from the TotalCharges variable\n",
        "total_charges_under80 = churn_df.query(\"TotalCharges <= 2840.41\")\n",
        "total_charges_above80 = churn_df.query(\"TotalCharges > 2840.41\")"
      ],
      "metadata": {
        "id": "UIdMBs1Oa1X8"
      },
      "execution_count": null,
      "outputs": []
    },
    {
      "cell_type": "code",
      "source": [
        "# Show the distribution of people under the 80th percentile\n",
        "total_charges_under80.TotalCharges.describe()"
      ],
      "metadata": {
        "colab": {
          "base_uri": "https://localhost:8080/"
        },
        "id": "FW3PN1dDa-Bs",
        "outputId": "c1ca0fac-4ea2-4c14-823c-3fa734cab056"
      },
      "execution_count": null,
      "outputs": [
        {
          "output_type": "execute_result",
          "data": {
            "text/plain": [
              "count    1495.000000\n",
              "mean      711.265819\n",
              "std       766.848197\n",
              "min        18.850000\n",
              "25%        85.025000\n",
              "50%       371.650000\n",
              "75%      1128.225000\n",
              "max      2839.650000\n",
              "Name: TotalCharges, dtype: float64"
            ]
          },
          "metadata": {},
          "execution_count": 13
        }
      ]
    },
    {
      "cell_type": "code",
      "source": [
        "# Show the distribution of people above the 80th percentile\n",
        "total_charges_above80.TotalCharges.describe()"
      ],
      "metadata": {
        "colab": {
          "base_uri": "https://localhost:8080/"
        },
        "id": "gR1o5_VWbB7N",
        "outputId": "205b0145-cd6e-407d-e63e-9736fb78a1c2"
      },
      "execution_count": null,
      "outputs": [
        {
          "output_type": "execute_result",
          "data": {
            "text/plain": [
              "count     374.000000\n",
              "mean     4811.723262\n",
              "std      1436.724288\n",
              "min      2841.550000\n",
              "25%      3522.462500\n",
              "50%      4571.100000\n",
              "75%      5891.212500\n",
              "max      8684.800000\n",
              "Name: TotalCharges, dtype: float64"
            ]
          },
          "metadata": {},
          "execution_count": 14
        }
      ]
    },
    {
      "cell_type": "code",
      "source": [
        "# Show the distribution of the tenure of people above the 80th percentile\n",
        "total_charges_above80.Tenure.describe()"
      ],
      "metadata": {
        "colab": {
          "base_uri": "https://localhost:8080/"
        },
        "id": "vzqmk72WbhVW",
        "outputId": "96d6cc35-880a-48d2-fc47-af3d3c5a731c"
      },
      "execution_count": null,
      "outputs": [
        {
          "output_type": "execute_result",
          "data": {
            "text/plain": [
              "count    374.000000\n",
              "mean      50.133690\n",
              "std       12.334841\n",
              "min       27.000000\n",
              "25%       40.000000\n",
              "50%       49.500000\n",
              "75%       60.000000\n",
              "max       72.000000\n",
              "Name: Tenure, dtype: float64"
            ]
          },
          "metadata": {},
          "execution_count": 15
        }
      ]
    },
    {
      "cell_type": "code",
      "source": [
        "# Show the distribution of the tenure of people under the 80th percentile\n",
        "total_charges_under80.Tenure.describe()"
      ],
      "metadata": {
        "colab": {
          "base_uri": "https://localhost:8080/"
        },
        "id": "lydfjkJtbj7k",
        "outputId": "4bd9531f-f17b-4789-c6cf-b726092da265"
      },
      "execution_count": null,
      "outputs": [
        {
          "output_type": "execute_result",
          "data": {
            "text/plain": [
              "count    1495.000000\n",
              "mean        9.935117\n",
              "std        10.742349\n",
              "min         1.000000\n",
              "25%         1.000000\n",
              "50%         6.000000\n",
              "75%        15.000000\n",
              "max        61.000000\n",
              "Name: Tenure, dtype: float64"
            ]
          },
          "metadata": {},
          "execution_count": 16
        }
      ]
    },
    {
      "cell_type": "markdown",
      "source": [
        "The average LTV of the 80% of unsubscribers is 711 dollars, and their duration is close to 10 months. On the other hand, the average LTV of the 20% of     unsubscribers is 4811 dollars, and their duration is close to 50 months."
      ],
      "metadata": {
        "id": "YmclmOCedQDh"
      }
    },
    {
      "cell_type": "code",
      "source": [
        "# under 80\n",
        "pd.read_sql(\"select count(1) from churn_all where TotalCharges <= 2840.41 and Churn = 'Yes' group by PhoneService\", conn)"
      ],
      "metadata": {
        "colab": {
          "base_uri": "https://localhost:8080/",
          "height": 112
        },
        "id": "VqhwVqYPdMcE",
        "outputId": "a4ee7b65-6643-457b-cd5f-507cdd163c9f"
      },
      "execution_count": null,
      "outputs": [
        {
          "output_type": "execute_result",
          "data": {
            "text/plain": [
              "   count(1)\n",
              "0       161\n",
              "1      1334"
            ],
            "text/html": [
              "\n",
              "  <div id=\"df-8694d56a-d975-469a-bf78-e630f875c93c\">\n",
              "    <div class=\"colab-df-container\">\n",
              "      <div>\n",
              "<style scoped>\n",
              "    .dataframe tbody tr th:only-of-type {\n",
              "        vertical-align: middle;\n",
              "    }\n",
              "\n",
              "    .dataframe tbody tr th {\n",
              "        vertical-align: top;\n",
              "    }\n",
              "\n",
              "    .dataframe thead th {\n",
              "        text-align: right;\n",
              "    }\n",
              "</style>\n",
              "<table border=\"1\" class=\"dataframe\">\n",
              "  <thead>\n",
              "    <tr style=\"text-align: right;\">\n",
              "      <th></th>\n",
              "      <th>count(1)</th>\n",
              "    </tr>\n",
              "  </thead>\n",
              "  <tbody>\n",
              "    <tr>\n",
              "      <th>0</th>\n",
              "      <td>161</td>\n",
              "    </tr>\n",
              "    <tr>\n",
              "      <th>1</th>\n",
              "      <td>1334</td>\n",
              "    </tr>\n",
              "  </tbody>\n",
              "</table>\n",
              "</div>\n",
              "      <button class=\"colab-df-convert\" onclick=\"convertToInteractive('df-8694d56a-d975-469a-bf78-e630f875c93c')\"\n",
              "              title=\"Convert this dataframe to an interactive table.\"\n",
              "              style=\"display:none;\">\n",
              "        \n",
              "  <svg xmlns=\"http://www.w3.org/2000/svg\" height=\"24px\"viewBox=\"0 0 24 24\"\n",
              "       width=\"24px\">\n",
              "    <path d=\"M0 0h24v24H0V0z\" fill=\"none\"/>\n",
              "    <path d=\"M18.56 5.44l.94 2.06.94-2.06 2.06-.94-2.06-.94-.94-2.06-.94 2.06-2.06.94zm-11 1L8.5 8.5l.94-2.06 2.06-.94-2.06-.94L8.5 2.5l-.94 2.06-2.06.94zm10 10l.94 2.06.94-2.06 2.06-.94-2.06-.94-.94-2.06-.94 2.06-2.06.94z\"/><path d=\"M17.41 7.96l-1.37-1.37c-.4-.4-.92-.59-1.43-.59-.52 0-1.04.2-1.43.59L10.3 9.45l-7.72 7.72c-.78.78-.78 2.05 0 2.83L4 21.41c.39.39.9.59 1.41.59.51 0 1.02-.2 1.41-.59l7.78-7.78 2.81-2.81c.8-.78.8-2.07 0-2.86zM5.41 20L4 18.59l7.72-7.72 1.47 1.35L5.41 20z\"/>\n",
              "  </svg>\n",
              "      </button>\n",
              "      \n",
              "  <style>\n",
              "    .colab-df-container {\n",
              "      display:flex;\n",
              "      flex-wrap:wrap;\n",
              "      gap: 12px;\n",
              "    }\n",
              "\n",
              "    .colab-df-convert {\n",
              "      background-color: #E8F0FE;\n",
              "      border: none;\n",
              "      border-radius: 50%;\n",
              "      cursor: pointer;\n",
              "      display: none;\n",
              "      fill: #1967D2;\n",
              "      height: 32px;\n",
              "      padding: 0 0 0 0;\n",
              "      width: 32px;\n",
              "    }\n",
              "\n",
              "    .colab-df-convert:hover {\n",
              "      background-color: #E2EBFA;\n",
              "      box-shadow: 0px 1px 2px rgba(60, 64, 67, 0.3), 0px 1px 3px 1px rgba(60, 64, 67, 0.15);\n",
              "      fill: #174EA6;\n",
              "    }\n",
              "\n",
              "    [theme=dark] .colab-df-convert {\n",
              "      background-color: #3B4455;\n",
              "      fill: #D2E3FC;\n",
              "    }\n",
              "\n",
              "    [theme=dark] .colab-df-convert:hover {\n",
              "      background-color: #434B5C;\n",
              "      box-shadow: 0px 1px 3px 1px rgba(0, 0, 0, 0.15);\n",
              "      filter: drop-shadow(0px 1px 2px rgba(0, 0, 0, 0.3));\n",
              "      fill: #FFFFFF;\n",
              "    }\n",
              "  </style>\n",
              "\n",
              "      <script>\n",
              "        const buttonEl =\n",
              "          document.querySelector('#df-8694d56a-d975-469a-bf78-e630f875c93c button.colab-df-convert');\n",
              "        buttonEl.style.display =\n",
              "          google.colab.kernel.accessAllowed ? 'block' : 'none';\n",
              "\n",
              "        async function convertToInteractive(key) {\n",
              "          const element = document.querySelector('#df-8694d56a-d975-469a-bf78-e630f875c93c');\n",
              "          const dataTable =\n",
              "            await google.colab.kernel.invokeFunction('convertToInteractive',\n",
              "                                                     [key], {});\n",
              "          if (!dataTable) return;\n",
              "\n",
              "          const docLinkHtml = 'Like what you see? Visit the ' +\n",
              "            '<a target=\"_blank\" href=https://colab.research.google.com/notebooks/data_table.ipynb>data table notebook</a>'\n",
              "            + ' to learn more about interactive tables.';\n",
              "          element.innerHTML = '';\n",
              "          dataTable['output_type'] = 'display_data';\n",
              "          await google.colab.output.renderOutput(dataTable, element);\n",
              "          const docLink = document.createElement('div');\n",
              "          docLink.innerHTML = docLinkHtml;\n",
              "          element.appendChild(docLink);\n",
              "        }\n",
              "      </script>\n",
              "    </div>\n",
              "  </div>\n",
              "  "
            ]
          },
          "metadata": {},
          "execution_count": 17
        }
      ]
    },
    {
      "cell_type": "code",
      "source": [
        "df[\"Gender\"].value_counts() # example"
      ],
      "metadata": {
        "colab": {
          "base_uri": "https://localhost:8080/"
        },
        "id": "JkWh7AJse9y5",
        "outputId": "41235cbf-47f0-457f-b7fa-1a461733161b"
      },
      "execution_count": null,
      "outputs": [
        {
          "output_type": "execute_result",
          "data": {
            "text/plain": [
              "Male      3555\n",
              "Female    3488\n",
              "Name: Gender, dtype: int64"
            ]
          },
          "metadata": {},
          "execution_count": 18
        }
      ]
    },
    {
      "cell_type": "code",
      "source": [
        "# under 80\n",
        "total_charges_under80.PhoneService.value_counts()"
      ],
      "metadata": {
        "colab": {
          "base_uri": "https://localhost:8080/"
        },
        "id": "YU-o7LL9fAqS",
        "outputId": "903c18f0-329f-4e3b-cf6e-f30d1c8b4255"
      },
      "execution_count": null,
      "outputs": [
        {
          "output_type": "execute_result",
          "data": {
            "text/plain": [
              "Yes    1334\n",
              "No      161\n",
              "Name: PhoneService, dtype: int64"
            ]
          },
          "metadata": {},
          "execution_count": 19
        }
      ]
    },
    {
      "cell_type": "code",
      "source": [
        "# Example of shape\n",
        "df.shape"
      ],
      "metadata": {
        "colab": {
          "base_uri": "https://localhost:8080/"
        },
        "id": "vvWRb_7XfDEg",
        "outputId": "a8b04069-29e8-49c2-8136-fdd25f491249"
      },
      "execution_count": null,
      "outputs": [
        {
          "output_type": "execute_result",
          "data": {
            "text/plain": [
              "(7043, 25)"
            ]
          },
          "metadata": {},
          "execution_count": 20
        }
      ]
    },
    {
      "cell_type": "code",
      "source": [
        "# Under 80 (percentage)\n",
        "total_charges_under80.PhoneService.value_counts() / total_charges_under80.shape[0]"
      ],
      "metadata": {
        "colab": {
          "base_uri": "https://localhost:8080/"
        },
        "id": "9iuARuu7fFmJ",
        "outputId": "48691720-c3a4-447f-e9e5-11a2cd3a0e93"
      },
      "execution_count": null,
      "outputs": [
        {
          "output_type": "execute_result",
          "data": {
            "text/plain": [
              "Yes    0.892308\n",
              "No     0.107692\n",
              "Name: PhoneService, dtype: float64"
            ]
          },
          "metadata": {},
          "execution_count": 21
        }
      ]
    },
    {
      "cell_type": "code",
      "source": [
        "# Above 80 (percentage)\n",
        "total_charges_above80.PhoneService.value_counts() / total_charges_above80.shape[0]"
      ],
      "metadata": {
        "colab": {
          "base_uri": "https://localhost:8080/"
        },
        "id": "Df-sv3SBfH7r",
        "outputId": "6763d41c-ecb9-4f86-ed19-77ee94b69045"
      },
      "execution_count": null,
      "outputs": [
        {
          "output_type": "execute_result",
          "data": {
            "text/plain": [
              "Yes    0.975936\n",
              "No     0.024064\n",
              "Name: PhoneService, dtype: float64"
            ]
          },
          "metadata": {},
          "execution_count": 22
        }
      ]
    },
    {
      "cell_type": "markdown",
      "source": [
        "Only 2% of the top 20% (high LTV) did not use the phone service. Lower 80% (LTV) had approximately 11% of individuals who did not use the phone service. That is roughly five times more than the highest 20%. If you do not have a phone connection, you are more likely to be in the bottom 80% of the LTV. We can attempt to sell this service to more people as a company."
      ],
      "metadata": {
        "id": "-aPCbdtCfZc5"
      }
    },
    {
      "cell_type": "markdown",
      "source": [
        "##Multiple Lines"
      ],
      "metadata": {
        "id": "Pg8mtuAagGKB"
      }
    },
    {
      "cell_type": "code",
      "source": [
        "total_charges_under80_use_phone = total_charges_under80.query(\"PhoneService == 'Yes'\")\n",
        "\n",
        "total_charges_under80_use_phone.MultipleLines.value_counts() / total_charges_under80_use_phone.shape[0]"
      ],
      "metadata": {
        "colab": {
          "base_uri": "https://localhost:8080/"
        },
        "id": "FnrYDoVqfKYc",
        "outputId": "0f4b4650-329b-4501-89ad-08b489c77629"
      },
      "execution_count": null,
      "outputs": [
        {
          "output_type": "execute_result",
          "data": {
            "text/plain": [
              "No     0.590705\n",
              "Yes    0.409295\n",
              "Name: MultipleLines, dtype: float64"
            ]
          },
          "metadata": {},
          "execution_count": 23
        }
      ]
    },
    {
      "cell_type": "code",
      "source": [
        "total_charges_above80_use_phone = total_charges_above80.query(\"PhoneService == 'Yes'\")\n",
        "\n",
        "total_charges_above80_use_phone.MultipleLines.value_counts() / total_charges_above80_use_phone.shape[0]"
      ],
      "metadata": {
        "colab": {
          "base_uri": "https://localhost:8080/"
        },
        "id": "u-wAueLYfdQ6",
        "outputId": "2d5ea607-2113-4f36-8ffc-470e81ff20db"
      },
      "execution_count": null,
      "outputs": [
        {
          "output_type": "execute_result",
          "data": {
            "text/plain": [
              "Yes    0.832877\n",
              "No     0.167123\n",
              "Name: MultipleLines, dtype: float64"
            ]
          },
          "metadata": {},
          "execution_count": 24
        }
      ]
    },
    {
      "cell_type": "markdown",
      "source": [
        "84% of individuals in the top 20% of LTV who used phone service used multiple lines, which is twice the proportion of people in the bottom 80% LTV, which is around 40%. Having numerous lines will bring you closer to the top 20% of the LTV.\n"
      ],
      "metadata": {
        "id": "fjSHMNTlgdqc"
      }
    },
    {
      "cell_type": "markdown",
      "source": [
        "##Internet Service"
      ],
      "metadata": {
        "id": "PwrDmcNWgt0w"
      }
    },
    {
      "cell_type": "code",
      "source": [
        "# Under 80 (percentage)\n",
        "total_charges_under80.InternetService.value_counts() / total_charges_under80.shape[0]"
      ],
      "metadata": {
        "colab": {
          "base_uri": "https://localhost:8080/"
        },
        "id": "KzCLrqkCfivR",
        "outputId": "f0293a37-5edf-401c-b9f5-fddc1b943376"
      },
      "execution_count": null,
      "outputs": [
        {
          "output_type": "execute_result",
          "data": {
            "text/plain": [
              "Fiber optic    0.640803\n",
              "DSL            0.283612\n",
              "No             0.075585\n",
              "Name: InternetService, dtype: float64"
            ]
          },
          "metadata": {},
          "execution_count": 25
        }
      ]
    },
    {
      "cell_type": "code",
      "source": [
        "# Above 80 (percentage)\n",
        "total_charges_above80.InternetService.value_counts() / total_charges_above80.shape[0]"
      ],
      "metadata": {
        "colab": {
          "base_uri": "https://localhost:8080/"
        },
        "id": "pBMHegxbg95Q",
        "outputId": "3df3a279-4a10-48f5-b290-d9de1d44505e"
      },
      "execution_count": null,
      "outputs": [
        {
          "output_type": "execute_result",
          "data": {
            "text/plain": [
              "Fiber optic    0.906417\n",
              "DSL            0.093583\n",
              "Name: InternetService, dtype: float64"
            ]
          },
          "metadata": {},
          "execution_count": 26
        }
      ]
    },
    {
      "cell_type": "markdown",
      "source": [
        "Everyone in the top 20% of LTV had access to the internet. On the other hand, 8% of individuals in the low 80th percentile of LTV did not have access to the internet. In addition, 90% of the top 20% (high LTV) had fibre optic, compared to only 64% of the low LTV. As a result, if we want to increase customer LTV, we should suggest using internet and a Fiber Optic connection.\n"
      ],
      "metadata": {
        "id": "JQ92vgRQhJJo"
      }
    },
    {
      "cell_type": "markdown",
      "source": [
        "##Other services"
      ],
      "metadata": {
        "id": "ORfTjHQehLrb"
      }
    },
    {
      "cell_type": "code",
      "source": [
        "import numpy as np"
      ],
      "metadata": {
        "id": "EquELfgkg_0a"
      },
      "execution_count": null,
      "outputs": []
    },
    {
      "cell_type": "code",
      "source": [
        "total_charges_under80_use_internet = total_charges_under80.query('InternetService!=\"No\"')\n",
        "proportion_internet_sub_service_under80 = np.array([total_charges_under80_use_internet.query('OnlineSecurity==\"Yes\"').shape[0]/total_charges_under80_use_internet.shape[0],\n",
        "total_charges_under80_use_internet.query('TechSupport==\"Yes\"').shape[0]/total_charges_under80_use_internet.shape[0],\n",
        "total_charges_under80_use_internet.query('OnlineBackup==\"Yes\"').shape[0]/total_charges_under80_use_internet.shape[0],\n",
        "total_charges_under80_use_internet.query('DeviceProtection==\"Yes\"').shape[0]/total_charges_under80_use_internet.shape[0],\n",
        "total_charges_under80_use_internet.query('StreamingTV==\"Yes\"').shape[0]/total_charges_under80_use_internet.shape[0],\n",
        "total_charges_under80_use_internet.query('StreamingMovies==\"Yes\"').shape[0]/total_charges_under80_use_internet.shape[0]])"
      ],
      "metadata": {
        "id": "YbXPbjBUhWpn"
      },
      "execution_count": null,
      "outputs": []
    },
    {
      "cell_type": "code",
      "source": [
        "proportion_internet_sub_service_under80"
      ],
      "metadata": {
        "colab": {
          "base_uri": "https://localhost:8080/"
        },
        "id": "222pMnkbhbHv",
        "outputId": "acad98f0-7664-4348-d801-0965bfcf7d35"
      },
      "execution_count": null,
      "outputs": [
        {
          "output_type": "execute_result",
          "data": {
            "text/plain": [
              "array([0.1316932 , 0.13603473, 0.22720695, 0.23516643, 0.37698987,\n",
              "       0.3813314 ])"
            ]
          },
          "metadata": {},
          "execution_count": 30
        }
      ]
    },
    {
      "cell_type": "code",
      "source": [
        "total_charges_above80_use_internet = total_charges_above80.query('InternetService!=\"No\"')\n",
        "proportion_internet_sub_service_above80 = np.array([total_charges_above80_use_internet.query('OnlineSecurity==\"Yes\"').shape[0]/total_charges_above80_use_internet.shape[0],\n",
        "total_charges_above80_use_internet.query('TechSupport==\"Yes\"').shape[0]/total_charges_above80_use_internet.shape[0],\n",
        "total_charges_above80_use_internet.query('OnlineBackup==\"Yes\"').shape[0]/total_charges_above80_use_internet.shape[0],\n",
        "total_charges_above80_use_internet.query('DeviceProtection==\"Yes\"').shape[0]/total_charges_above80_use_internet.shape[0],\n",
        "total_charges_above80_use_internet.query('StreamingTV==\"Yes\"').shape[0]/total_charges_above80_use_internet.shape[0],\n",
        "total_charges_above80_use_internet.query('StreamingMovies==\"Yes\"').shape[0]/total_charges_above80_use_internet.shape[0]])"
      ],
      "metadata": {
        "id": "sqK42aZbhfWw"
      },
      "execution_count": null,
      "outputs": []
    },
    {
      "cell_type": "code",
      "source": [
        "proportion_internet_sub_service_above80"
      ],
      "metadata": {
        "colab": {
          "base_uri": "https://localhost:8080/"
        },
        "id": "Je5UR3vOheyn",
        "outputId": "b8adb1fc-8275-4fbd-a3e7-0cc046277c08"
      },
      "execution_count": null,
      "outputs": [
        {
          "output_type": "execute_result",
          "data": {
            "text/plain": [
              "array([0.30213904, 0.32620321, 0.55882353, 0.58823529, 0.78342246,\n",
              "       0.77807487])"
            ]
          },
          "metadata": {},
          "execution_count": 32
        }
      ]
    },
    {
      "cell_type": "markdown",
      "source": [
        "Both streaming movie and streaming television rates are around 80% in the top 20% LTV, while they are around 40% in the bottom 80% LTV. Device security and online backup are around 55% for the top 20% LTV, compared to only around 22% for the low LTV. If we want to increase LTV, we would like to offer streaming TV and movies to customers, as well as online backup and device protection.\n"
      ],
      "metadata": {
        "id": "y5tHEyc_iCKj"
      }
    },
    {
      "cell_type": "markdown",
      "source": [
        "## 3. For those who churned what is the proportion of each kind of contract?\n"
      ],
      "metadata": {
        "id": "DgB35OxCitFd"
      }
    },
    {
      "cell_type": "code",
      "source": [
        "# Under 80 (percentage)\n",
        "total_charges_under80.Contract.value_counts() / total_charges_under80.shape[0]"
      ],
      "metadata": {
        "colab": {
          "base_uri": "https://localhost:8080/"
        },
        "id": "mKTNRpC7helX",
        "outputId": "92f462dd-b4c1-4dfa-a670-c0b05db0d6a0"
      },
      "execution_count": null,
      "outputs": [
        {
          "output_type": "execute_result",
          "data": {
            "text/plain": [
              "Month-to-month    0.959197\n",
              "One year          0.036789\n",
              "Two year          0.004013\n",
              "Name: Contract, dtype: float64"
            ]
          },
          "metadata": {},
          "execution_count": 34
        }
      ]
    },
    {
      "cell_type": "code",
      "source": [
        "# Above 80 (percentage)\n",
        "total_charges_above80.Contract.value_counts() / total_charges_above80.shape[0]"
      ],
      "metadata": {
        "colab": {
          "base_uri": "https://localhost:8080/"
        },
        "id": "HZVJuVCKhecc",
        "outputId": "e86637ff-9b76-494d-87c8-ace6eed3d8c7"
      },
      "execution_count": null,
      "outputs": [
        {
          "output_type": "execute_result",
          "data": {
            "text/plain": [
              "Month-to-month    0.590909\n",
              "One year          0.296791\n",
              "Two year          0.112299\n",
              "Name: Contract, dtype: float64"
            ]
          },
          "metadata": {},
          "execution_count": 35
        }
      ]
    },
    {
      "cell_type": "markdown",
      "source": [
        "## 4. For those who did not churn what is the proportion of each kind of contract?"
      ],
      "metadata": {
        "id": "-J8K3lw_i4aG"
      }
    },
    {
      "cell_type": "code",
      "source": [
        "## Extract those who unsubscribed the services (Churn = Yes)\n",
        "\n",
        "paying_df = pd.read_sql(\"select * from churn_all where Churn = 'No'\", conn)"
      ],
      "metadata": {
        "id": "Ph6p5la_i07w"
      },
      "execution_count": null,
      "outputs": []
    },
    {
      "cell_type": "code",
      "source": [
        "paying_df.head()"
      ],
      "metadata": {
        "colab": {
          "base_uri": "https://localhost:8080/",
          "height": 386
        },
        "id": "Db--BK-Ujz-f",
        "outputId": "a3493361-cf77-4d2b-b192-0f4d2d30c751"
      },
      "execution_count": null,
      "outputs": [
        {
          "output_type": "execute_result",
          "data": {
            "text/plain": [
              "   CustomerID  Gender SeniorCitizen Partner Dependents       State   Latitude  \\\n",
              "0  7590-VHVEG  Female            No     Yes         No  California  33.973616   \n",
              "1  5575-GNVDE    Male            No      No         No  California  33.949255   \n",
              "2  7795-CFOCW    Male            No      No         No  California  34.076259   \n",
              "3  1452-KIOVK    Male            No      No        Yes  California  34.027337   \n",
              "4  6713-OKOMC  Female            No      No         No  California  34.008293   \n",
              "\n",
              "    Longitude  ZipCode PhoneService  ... TechSupport StreamingTV  \\\n",
              "0 -118.249020    90001           No  ...          No          No   \n",
              "1 -118.246978    90002          Yes  ...          No          No   \n",
              "2 -118.310715    90004           No  ...         Yes          No   \n",
              "3 -118.285150    90007          Yes  ...          No         Yes   \n",
              "4 -118.346766    90008           No  ...          No          No   \n",
              "\n",
              "  StreamingMovies Tenure        Contract              PaymentMethod  \\\n",
              "0              No      1  Month-to-month           Electronic check   \n",
              "1              No     34        One year               Mailed check   \n",
              "2              No     45        One year  Bank transfer (automatic)   \n",
              "3              No     22  Month-to-month    Credit card (automatic)   \n",
              "4              No     10  Month-to-month               Mailed check   \n",
              "\n",
              "  PaperlessBilling MonthlyCharges  TotalCharges Churn  \n",
              "0              Yes          29.85         29.85    No  \n",
              "1               No          56.95        1889.5    No  \n",
              "2               No          42.30       1840.75    No  \n",
              "3              Yes          89.10        1949.4    No  \n",
              "4               No          29.75         301.9    No  \n",
              "\n",
              "[5 rows x 25 columns]"
            ],
            "text/html": [
              "\n",
              "  <div id=\"df-346a89db-906e-4e4d-a847-e298169f131a\">\n",
              "    <div class=\"colab-df-container\">\n",
              "      <div>\n",
              "<style scoped>\n",
              "    .dataframe tbody tr th:only-of-type {\n",
              "        vertical-align: middle;\n",
              "    }\n",
              "\n",
              "    .dataframe tbody tr th {\n",
              "        vertical-align: top;\n",
              "    }\n",
              "\n",
              "    .dataframe thead th {\n",
              "        text-align: right;\n",
              "    }\n",
              "</style>\n",
              "<table border=\"1\" class=\"dataframe\">\n",
              "  <thead>\n",
              "    <tr style=\"text-align: right;\">\n",
              "      <th></th>\n",
              "      <th>CustomerID</th>\n",
              "      <th>Gender</th>\n",
              "      <th>SeniorCitizen</th>\n",
              "      <th>Partner</th>\n",
              "      <th>Dependents</th>\n",
              "      <th>State</th>\n",
              "      <th>Latitude</th>\n",
              "      <th>Longitude</th>\n",
              "      <th>ZipCode</th>\n",
              "      <th>PhoneService</th>\n",
              "      <th>...</th>\n",
              "      <th>TechSupport</th>\n",
              "      <th>StreamingTV</th>\n",
              "      <th>StreamingMovies</th>\n",
              "      <th>Tenure</th>\n",
              "      <th>Contract</th>\n",
              "      <th>PaymentMethod</th>\n",
              "      <th>PaperlessBilling</th>\n",
              "      <th>MonthlyCharges</th>\n",
              "      <th>TotalCharges</th>\n",
              "      <th>Churn</th>\n",
              "    </tr>\n",
              "  </thead>\n",
              "  <tbody>\n",
              "    <tr>\n",
              "      <th>0</th>\n",
              "      <td>7590-VHVEG</td>\n",
              "      <td>Female</td>\n",
              "      <td>No</td>\n",
              "      <td>Yes</td>\n",
              "      <td>No</td>\n",
              "      <td>California</td>\n",
              "      <td>33.973616</td>\n",
              "      <td>-118.249020</td>\n",
              "      <td>90001</td>\n",
              "      <td>No</td>\n",
              "      <td>...</td>\n",
              "      <td>No</td>\n",
              "      <td>No</td>\n",
              "      <td>No</td>\n",
              "      <td>1</td>\n",
              "      <td>Month-to-month</td>\n",
              "      <td>Electronic check</td>\n",
              "      <td>Yes</td>\n",
              "      <td>29.85</td>\n",
              "      <td>29.85</td>\n",
              "      <td>No</td>\n",
              "    </tr>\n",
              "    <tr>\n",
              "      <th>1</th>\n",
              "      <td>5575-GNVDE</td>\n",
              "      <td>Male</td>\n",
              "      <td>No</td>\n",
              "      <td>No</td>\n",
              "      <td>No</td>\n",
              "      <td>California</td>\n",
              "      <td>33.949255</td>\n",
              "      <td>-118.246978</td>\n",
              "      <td>90002</td>\n",
              "      <td>Yes</td>\n",
              "      <td>...</td>\n",
              "      <td>No</td>\n",
              "      <td>No</td>\n",
              "      <td>No</td>\n",
              "      <td>34</td>\n",
              "      <td>One year</td>\n",
              "      <td>Mailed check</td>\n",
              "      <td>No</td>\n",
              "      <td>56.95</td>\n",
              "      <td>1889.5</td>\n",
              "      <td>No</td>\n",
              "    </tr>\n",
              "    <tr>\n",
              "      <th>2</th>\n",
              "      <td>7795-CFOCW</td>\n",
              "      <td>Male</td>\n",
              "      <td>No</td>\n",
              "      <td>No</td>\n",
              "      <td>No</td>\n",
              "      <td>California</td>\n",
              "      <td>34.076259</td>\n",
              "      <td>-118.310715</td>\n",
              "      <td>90004</td>\n",
              "      <td>No</td>\n",
              "      <td>...</td>\n",
              "      <td>Yes</td>\n",
              "      <td>No</td>\n",
              "      <td>No</td>\n",
              "      <td>45</td>\n",
              "      <td>One year</td>\n",
              "      <td>Bank transfer (automatic)</td>\n",
              "      <td>No</td>\n",
              "      <td>42.30</td>\n",
              "      <td>1840.75</td>\n",
              "      <td>No</td>\n",
              "    </tr>\n",
              "    <tr>\n",
              "      <th>3</th>\n",
              "      <td>1452-KIOVK</td>\n",
              "      <td>Male</td>\n",
              "      <td>No</td>\n",
              "      <td>No</td>\n",
              "      <td>Yes</td>\n",
              "      <td>California</td>\n",
              "      <td>34.027337</td>\n",
              "      <td>-118.285150</td>\n",
              "      <td>90007</td>\n",
              "      <td>Yes</td>\n",
              "      <td>...</td>\n",
              "      <td>No</td>\n",
              "      <td>Yes</td>\n",
              "      <td>No</td>\n",
              "      <td>22</td>\n",
              "      <td>Month-to-month</td>\n",
              "      <td>Credit card (automatic)</td>\n",
              "      <td>Yes</td>\n",
              "      <td>89.10</td>\n",
              "      <td>1949.4</td>\n",
              "      <td>No</td>\n",
              "    </tr>\n",
              "    <tr>\n",
              "      <th>4</th>\n",
              "      <td>6713-OKOMC</td>\n",
              "      <td>Female</td>\n",
              "      <td>No</td>\n",
              "      <td>No</td>\n",
              "      <td>No</td>\n",
              "      <td>California</td>\n",
              "      <td>34.008293</td>\n",
              "      <td>-118.346766</td>\n",
              "      <td>90008</td>\n",
              "      <td>No</td>\n",
              "      <td>...</td>\n",
              "      <td>No</td>\n",
              "      <td>No</td>\n",
              "      <td>No</td>\n",
              "      <td>10</td>\n",
              "      <td>Month-to-month</td>\n",
              "      <td>Mailed check</td>\n",
              "      <td>No</td>\n",
              "      <td>29.75</td>\n",
              "      <td>301.9</td>\n",
              "      <td>No</td>\n",
              "    </tr>\n",
              "  </tbody>\n",
              "</table>\n",
              "<p>5 rows × 25 columns</p>\n",
              "</div>\n",
              "      <button class=\"colab-df-convert\" onclick=\"convertToInteractive('df-346a89db-906e-4e4d-a847-e298169f131a')\"\n",
              "              title=\"Convert this dataframe to an interactive table.\"\n",
              "              style=\"display:none;\">\n",
              "        \n",
              "  <svg xmlns=\"http://www.w3.org/2000/svg\" height=\"24px\"viewBox=\"0 0 24 24\"\n",
              "       width=\"24px\">\n",
              "    <path d=\"M0 0h24v24H0V0z\" fill=\"none\"/>\n",
              "    <path d=\"M18.56 5.44l.94 2.06.94-2.06 2.06-.94-2.06-.94-.94-2.06-.94 2.06-2.06.94zm-11 1L8.5 8.5l.94-2.06 2.06-.94-2.06-.94L8.5 2.5l-.94 2.06-2.06.94zm10 10l.94 2.06.94-2.06 2.06-.94-2.06-.94-.94-2.06-.94 2.06-2.06.94z\"/><path d=\"M17.41 7.96l-1.37-1.37c-.4-.4-.92-.59-1.43-.59-.52 0-1.04.2-1.43.59L10.3 9.45l-7.72 7.72c-.78.78-.78 2.05 0 2.83L4 21.41c.39.39.9.59 1.41.59.51 0 1.02-.2 1.41-.59l7.78-7.78 2.81-2.81c.8-.78.8-2.07 0-2.86zM5.41 20L4 18.59l7.72-7.72 1.47 1.35L5.41 20z\"/>\n",
              "  </svg>\n",
              "      </button>\n",
              "      \n",
              "  <style>\n",
              "    .colab-df-container {\n",
              "      display:flex;\n",
              "      flex-wrap:wrap;\n",
              "      gap: 12px;\n",
              "    }\n",
              "\n",
              "    .colab-df-convert {\n",
              "      background-color: #E8F0FE;\n",
              "      border: none;\n",
              "      border-radius: 50%;\n",
              "      cursor: pointer;\n",
              "      display: none;\n",
              "      fill: #1967D2;\n",
              "      height: 32px;\n",
              "      padding: 0 0 0 0;\n",
              "      width: 32px;\n",
              "    }\n",
              "\n",
              "    .colab-df-convert:hover {\n",
              "      background-color: #E2EBFA;\n",
              "      box-shadow: 0px 1px 2px rgba(60, 64, 67, 0.3), 0px 1px 3px 1px rgba(60, 64, 67, 0.15);\n",
              "      fill: #174EA6;\n",
              "    }\n",
              "\n",
              "    [theme=dark] .colab-df-convert {\n",
              "      background-color: #3B4455;\n",
              "      fill: #D2E3FC;\n",
              "    }\n",
              "\n",
              "    [theme=dark] .colab-df-convert:hover {\n",
              "      background-color: #434B5C;\n",
              "      box-shadow: 0px 1px 3px 1px rgba(0, 0, 0, 0.15);\n",
              "      filter: drop-shadow(0px 1px 2px rgba(0, 0, 0, 0.3));\n",
              "      fill: #FFFFFF;\n",
              "    }\n",
              "  </style>\n",
              "\n",
              "      <script>\n",
              "        const buttonEl =\n",
              "          document.querySelector('#df-346a89db-906e-4e4d-a847-e298169f131a button.colab-df-convert');\n",
              "        buttonEl.style.display =\n",
              "          google.colab.kernel.accessAllowed ? 'block' : 'none';\n",
              "\n",
              "        async function convertToInteractive(key) {\n",
              "          const element = document.querySelector('#df-346a89db-906e-4e4d-a847-e298169f131a');\n",
              "          const dataTable =\n",
              "            await google.colab.kernel.invokeFunction('convertToInteractive',\n",
              "                                                     [key], {});\n",
              "          if (!dataTable) return;\n",
              "\n",
              "          const docLinkHtml = 'Like what you see? Visit the ' +\n",
              "            '<a target=\"_blank\" href=https://colab.research.google.com/notebooks/data_table.ipynb>data table notebook</a>'\n",
              "            + ' to learn more about interactive tables.';\n",
              "          element.innerHTML = '';\n",
              "          dataTable['output_type'] = 'display_data';\n",
              "          await google.colab.output.renderOutput(dataTable, element);\n",
              "          const docLink = document.createElement('div');\n",
              "          docLink.innerHTML = docLinkHtml;\n",
              "          element.appendChild(docLink);\n",
              "        }\n",
              "      </script>\n",
              "    </div>\n",
              "  </div>\n",
              "  "
            ]
          },
          "metadata": {},
          "execution_count": 57
        }
      ]
    },
    {
      "cell_type": "code",
      "source": [
        "print(paying_df['TotalCharges'].dtype)"
      ],
      "metadata": {
        "colab": {
          "base_uri": "https://localhost:8080/"
        },
        "id": "7dhTFz0Txb6x",
        "outputId": "7c21a356-8939-49a9-b414-286d09c0268e"
      },
      "execution_count": null,
      "outputs": [
        {
          "output_type": "stream",
          "name": "stdout",
          "text": [
            "object\n"
          ]
        }
      ]
    },
    {
      "cell_type": "code",
      "source": [
        "print(paying_df['TotalCharges'].unique())"
      ],
      "metadata": {
        "colab": {
          "base_uri": "https://localhost:8080/"
        },
        "id": "FEgSjWS7xb3u",
        "outputId": "12594121-8410-4cc9-be59-7548f844ce45"
      },
      "execution_count": null,
      "outputs": [
        {
          "output_type": "stream",
          "name": "stdout",
          "text": [
            "[29.85 1889.5 1840.75 ... 7362.9 346.45 6844.5]\n"
          ]
        }
      ]
    },
    {
      "cell_type": "code",
      "source": [
        "paying_df.dropna(subset=['TotalCharges'], inplace=True)"
      ],
      "metadata": {
        "id": "w_Ho4lQvxb02"
      },
      "execution_count": null,
      "outputs": []
    },
    {
      "cell_type": "code",
      "source": [
        "paying_df['TotalCharges'] = pd.to_numeric(paying_df['TotalCharges'], errors='coerce')"
      ],
      "metadata": {
        "id": "Orzo98R5x-9B"
      },
      "execution_count": null,
      "outputs": []
    },
    {
      "cell_type": "code",
      "source": [
        "paying_df.TotalCharges.describe()"
      ],
      "metadata": {
        "colab": {
          "base_uri": "https://localhost:8080/"
        },
        "id": "M05m0OMNi8Xv",
        "outputId": "e615d825-9608-494c-ae89-fd039f7c7c67"
      },
      "execution_count": null,
      "outputs": [
        {
          "output_type": "execute_result",
          "data": {
            "text/plain": [
              "count    5163.000000\n",
              "mean     2555.344141\n",
              "std      2329.456984\n",
              "min        18.800000\n",
              "25%       577.825000\n",
              "50%      1683.600000\n",
              "75%      4264.125000\n",
              "max      8672.450000\n",
              "Name: TotalCharges, dtype: float64"
            ]
          },
          "metadata": {},
          "execution_count": 64
        }
      ]
    },
    {
      "cell_type": "code",
      "source": [
        "# Find the 80th percentile of the data in TotalCharges\n",
        "paying_df.TotalCharges.quantile(0.8)"
      ],
      "metadata": {
        "colab": {
          "base_uri": "https://localhost:8080/"
        },
        "id": "WIcMj98ZjJsu",
        "outputId": "5ced6127-40c4-4cb8-ab5c-a893e2257520"
      },
      "execution_count": null,
      "outputs": [
        {
          "output_type": "execute_result",
          "data": {
            "text/plain": [
              "4895.85"
            ]
          },
          "metadata": {},
          "execution_count": 65
        }
      ]
    },
    {
      "cell_type": "code",
      "source": [
        "# Divide the data by the 80th percentile of the data from the TotalCharges variable\n",
        "paying_total_charges_under80 = paying_df.query(\"TotalCharges <= 4895.8\")\n",
        "paying_total_charges_above80 = paying_df.query(\"TotalCharges > 4895.8\")"
      ],
      "metadata": {
        "id": "1f62WoskjL-W"
      },
      "execution_count": null,
      "outputs": []
    },
    {
      "cell_type": "code",
      "source": [
        "# Under 80 (percentage)\n",
        "paying_total_charges_under80.Contract.value_counts() / paying_total_charges_under80.shape[0]"
      ],
      "metadata": {
        "colab": {
          "base_uri": "https://localhost:8080/"
        },
        "id": "zFT8bt6wyfwJ",
        "outputId": "61315c70-bc35-4eea-b816-0500fd4a98a1"
      },
      "execution_count": null,
      "outputs": [
        {
          "output_type": "execute_result",
          "data": {
            "text/plain": [
              "Month-to-month    0.500726\n",
              "Two year          0.253269\n",
              "One year          0.246005\n",
              "Name: Contract, dtype: float64"
            ]
          },
          "metadata": {},
          "execution_count": 67
        }
      ]
    },
    {
      "cell_type": "code",
      "source": [
        "# Above 80 (percentage)\n",
        "paying_total_charges_above80.Contract.value_counts() / paying_total_charges_above80.shape[0]"
      ],
      "metadata": {
        "colab": {
          "base_uri": "https://localhost:8080/"
        },
        "id": "z9NbYSarytKx",
        "outputId": "c3284a14-df40-4bc7-cca4-51b0c5df0d1a"
      },
      "execution_count": null,
      "outputs": [
        {
          "output_type": "execute_result",
          "data": {
            "text/plain": [
              "Two year          0.572120\n",
              "One year          0.280736\n",
              "Month-to-month    0.147144\n",
              "Name: Contract, dtype: float64"
            ]
          },
          "metadata": {},
          "execution_count": 68
        }
      ]
    },
    {
      "cell_type": "markdown",
      "source": [
        "- If we want to stop churning, we'd like to offer people contracts for at least a year, preferably two. \n",
        "- We have 57% of people in the top 20% LTV who remained in the company with two-year contracts, while only 11% of people in the top 20% had a two-year contract and left the company.\n",
        "- 95% of those who left the business and are in the low 80% have a month-to-month contract, compared to only 50% of those in the low 80% who remained. One of the reasons for people leaving the business is that they have a month-to-month contract."
      ],
      "metadata": {
        "id": "3QJeszZXy-Nr"
      }
    }
  ]
}