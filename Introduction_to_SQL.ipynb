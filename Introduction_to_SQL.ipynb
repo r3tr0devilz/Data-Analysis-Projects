{
  "nbformat": 4,
  "nbformat_minor": 0,
  "metadata": {
    "colab": {
      "provenance": [],
      "authorship_tag": "ABX9TyPye+ov/Gis4iylT30NhMiB",
      "include_colab_link": true
    },
    "kernelspec": {
      "name": "python3",
      "display_name": "Python 3"
    },
    "language_info": {
      "name": "python"
    }
  },
  "cells": [
    {
      "cell_type": "markdown",
      "metadata": {
        "id": "view-in-github",
        "colab_type": "text"
      },
      "source": [
        "<a href=\"https://colab.research.google.com/github/r3tr0devilz/Data-Analysis-Projects/blob/main/Introduction_to_SQL.ipynb\" target=\"_parent\"><img src=\"https://colab.research.google.com/assets/colab-badge.svg\" alt=\"Open In Colab\"/></a>"
      ]
    },
    {
      "cell_type": "code",
      "execution_count": 1,
      "metadata": {
        "id": "HWQVseKkQdeE"
      },
      "outputs": [],
      "source": [
        "import sqlite3"
      ]
    },
    {
      "cell_type": "markdown",
      "source": [
        "## Create a Connection, a table and add data"
      ],
      "metadata": {
        "id": "P2bjWWIqQ6d4"
      }
    },
    {
      "cell_type": "code",
      "source": [
        "#Create a database\n",
        "conn = sqlite3.connect(\"example2.db\")"
      ],
      "metadata": {
        "id": "wM4vkxpYQihM"
      },
      "execution_count": 2,
      "outputs": []
    },
    {
      "cell_type": "code",
      "source": [
        "# Create a cursor\n",
        "\n",
        "cur = conn.cursor()"
      ],
      "metadata": {
        "id": "OH_Xs2UcQvGU"
      },
      "execution_count": 3,
      "outputs": []
    },
    {
      "cell_type": "code",
      "source": [
        "#Create table\n",
        "\n",
        "cur.execute(\"CREATE TABLE customer (name TEXT, last_name TEXT, income REAL)\")"
      ],
      "metadata": {
        "colab": {
          "base_uri": "https://localhost:8080/"
        },
        "id": "TH5RYwTDRSJ0",
        "outputId": "317baeea-b36c-4404-c467-862fda8eae41"
      },
      "execution_count": 4,
      "outputs": [
        {
          "output_type": "execute_result",
          "data": {
            "text/plain": [
              "<sqlite3.Cursor at 0x7f196768d110>"
            ]
          },
          "metadata": {},
          "execution_count": 4
        }
      ]
    },
    {
      "cell_type": "code",
      "source": [
        "# Insert a row\n",
        "\n",
        "cur.execute(\"INSERT INTO customer VALUES ('A','B','45600')\")"
      ],
      "metadata": {
        "colab": {
          "base_uri": "https://localhost:8080/"
        },
        "id": "l2BBb3NsRomd",
        "outputId": "1adae502-0134-4226-ae1a-d9f519d22b41"
      },
      "execution_count": 5,
      "outputs": [
        {
          "output_type": "execute_result",
          "data": {
            "text/plain": [
              "<sqlite3.Cursor at 0x7f196768d110>"
            ]
          },
          "metadata": {},
          "execution_count": 5
        }
      ]
    },
    {
      "cell_type": "code",
      "source": [
        "conn.commit()"
      ],
      "metadata": {
        "id": "tyLZsO7jSE2z"
      },
      "execution_count": 6,
      "outputs": []
    },
    {
      "cell_type": "markdown",
      "source": [
        "Connect to an exisiting database"
      ],
      "metadata": {
        "id": "Hc27XCAQStq1"
      }
    },
    {
      "cell_type": "code",
      "source": [
        "conn = sqlite3.connect(\"example2.db\")\n",
        "\n",
        "cur = conn.cursor()"
      ],
      "metadata": {
        "id": "9pvvtmEWSHs1"
      },
      "execution_count": 8,
      "outputs": []
    },
    {
      "cell_type": "code",
      "source": [
        "#run simple query\n",
        "cur.execute(\"SELECT * FROM customer\")\n",
        "cur.fetchone()"
      ],
      "metadata": {
        "colab": {
          "base_uri": "https://localhost:8080/"
        },
        "id": "nTb2qb4WS7Gv",
        "outputId": "1aa76a36-9cd7-43cd-9700-9cbba3ef1cd3"
      },
      "execution_count": 10,
      "outputs": [
        {
          "output_type": "execute_result",
          "data": {
            "text/plain": [
              "('A', 'B', 45600.0)"
            ]
          },
          "metadata": {},
          "execution_count": 10
        }
      ]
    },
    {
      "cell_type": "code",
      "source": [
        "for row in cur.execute(\"SELECT * FROM customer\"):\n",
        "  print(row)"
      ],
      "metadata": {
        "colab": {
          "base_uri": "https://localhost:8080/"
        },
        "id": "EXHUdLxfTJ-z",
        "outputId": "1cab3825-4ebb-45f1-9418-2790ff74aa48"
      },
      "execution_count": 11,
      "outputs": [
        {
          "output_type": "stream",
          "name": "stdout",
          "text": [
            "('A', 'B', 45600.0)\n"
          ]
        }
      ]
    },
    {
      "cell_type": "markdown",
      "source": [
        "Add several rows"
      ],
      "metadata": {
        "id": "Z9MtDHYJVuSB"
      }
    },
    {
      "cell_type": "code",
      "source": [
        "customer_list = [\n",
        "    (\"Sri\",\"Ambati\",3000),\n",
        "    (\"Nicholas\",\"Cage\",45000),\n",
        "    (\"Anu\",\"Gaur\",4020.5)\n",
        "]"
      ],
      "metadata": {
        "id": "Z93LKR6dUGFm"
      },
      "execution_count": 12,
      "outputs": []
    },
    {
      "cell_type": "code",
      "source": [
        "cur.executemany(\"INSERT INTO customer VALUES (?,?,?)\", customer_list)"
      ],
      "metadata": {
        "colab": {
          "base_uri": "https://localhost:8080/"
        },
        "id": "qByQ5x68WOW9",
        "outputId": "c7d318e7-2d51-48c0-a27f-fa24c9976811"
      },
      "execution_count": 13,
      "outputs": [
        {
          "output_type": "execute_result",
          "data": {
            "text/plain": [
              "<sqlite3.Cursor at 0x7f196768d180>"
            ]
          },
          "metadata": {},
          "execution_count": 13
        }
      ]
    },
    {
      "cell_type": "code",
      "source": [
        "for row in cur.execute(\"SELECT * FROM customer\"):\n",
        "  print(row)"
      ],
      "metadata": {
        "colab": {
          "base_uri": "https://localhost:8080/"
        },
        "id": "_UANl3m7Wdf8",
        "outputId": "6965ad1e-38c4-4e0b-a307-c0924a9b6c49"
      },
      "execution_count": 16,
      "outputs": [
        {
          "output_type": "stream",
          "name": "stdout",
          "text": [
            "('A', 'B', 45600.0)\n",
            "('Sri', 'Ambati', 3000.0)\n",
            "('Nicholas', 'Cage', 45000.0)\n",
            "('Anu', 'Gaur', 4020.5)\n"
          ]
        }
      ]
    },
    {
      "cell_type": "code",
      "source": [
        "conn.commit()"
      ],
      "metadata": {
        "id": "ozGcwh1zWlWN"
      },
      "execution_count": 17,
      "outputs": []
    },
    {
      "cell_type": "code",
      "source": [
        "conn.close()"
      ],
      "metadata": {
        "id": "FZKge4BSXCS7"
      },
      "execution_count": 18,
      "outputs": []
    },
    {
      "cell_type": "markdown",
      "source": [
        "Run queries"
      ],
      "metadata": {
        "id": "W_xuq2qYW65O"
      }
    },
    {
      "cell_type": "code",
      "source": [
        "##to re open connection\n",
        "\n",
        "conn = sqlite3.connect(\"example2.db\")\n",
        "cur = conn.cursor()"
      ],
      "metadata": {
        "id": "pHGVmbmBW1pE"
      },
      "execution_count": 19,
      "outputs": []
    },
    {
      "cell_type": "code",
      "source": [
        "cur.execute(\"Select * FROM customer WHERE name = 'Nicholas'\")\n",
        "cur.fetchall()"
      ],
      "metadata": {
        "colab": {
          "base_uri": "https://localhost:8080/"
        },
        "id": "F5c6bbRGXTQ0",
        "outputId": "1ea3b2a5-a1ff-4223-fd29-208a3d480c21"
      },
      "execution_count": 20,
      "outputs": [
        {
          "output_type": "execute_result",
          "data": {
            "text/plain": [
              "[('Nicholas', 'Cage', 45000.0)]"
            ]
          },
          "metadata": {},
          "execution_count": 20
        }
      ]
    },
    {
      "cell_type": "code",
      "source": [
        "cur.execute(\"SELECT * FROM customer WHERE last_name = 'Ambati'\")\n",
        "cur.fetchall()"
      ],
      "metadata": {
        "colab": {
          "base_uri": "https://localhost:8080/"
        },
        "id": "YEVT468tXeNd",
        "outputId": "3205cdd5-3d72-4ac1-92e9-f6a29ec9ac41"
      },
      "execution_count": 25,
      "outputs": [
        {
          "output_type": "execute_result",
          "data": {
            "text/plain": [
              "[('Sri', 'Ambati', 3000.0)]"
            ]
          },
          "metadata": {},
          "execution_count": 25
        }
      ]
    },
    {
      "cell_type": "code",
      "source": [
        "cur.execute(\"SELECT * FROM customer ORDER BY last_name desc\")\n",
        "cur.fetchall()"
      ],
      "metadata": {
        "colab": {
          "base_uri": "https://localhost:8080/"
        },
        "id": "DHySuUkIXz2P",
        "outputId": "daf41b22-755b-4196-ac8a-77fb5213ef01"
      },
      "execution_count": 30,
      "outputs": [
        {
          "output_type": "execute_result",
          "data": {
            "text/plain": [
              "[('Anu', 'Gaur', 4020.5),\n",
              " ('Nicholas', 'Cage', 45000.0),\n",
              " ('A', 'B', 45600.0),\n",
              " ('Sri', 'Ambati', 3000.0)]"
            ]
          },
          "metadata": {},
          "execution_count": 30
        }
      ]
    },
    {
      "cell_type": "code",
      "source": [
        "cur.execute(\"SELECT SUM(income) FROM customer\")\n",
        "cur.fetchall()"
      ],
      "metadata": {
        "colab": {
          "base_uri": "https://localhost:8080/"
        },
        "id": "Va-owIbQYTyc",
        "outputId": "100c8a35-6fab-41f3-b14e-f0ea13b07276"
      },
      "execution_count": 33,
      "outputs": [
        {
          "output_type": "execute_result",
          "data": {
            "text/plain": [
              "[(97620.5,)]"
            ]
          },
          "metadata": {},
          "execution_count": 33
        }
      ]
    },
    {
      "cell_type": "code",
      "source": [
        "conn.close()    #close connection"
      ],
      "metadata": {
        "id": "3vWGslsjYsrj"
      },
      "execution_count": null,
      "outputs": []
    }
  ]
}